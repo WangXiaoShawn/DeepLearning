{
 "cells": [
  {
   "cell_type": "code",
   "execution_count": 52,
   "metadata": {},
   "outputs": [
    {
     "name": "stdout",
     "output_type": "stream",
     "text": [
      "100\n"
     ]
    }
   ],
   "source": [
    "from IPython import display\n",
    "from utils import Logger\n",
    "import torch\n",
    "from torch import nn, optim\n",
    "from torch.autograd.variable import Variable\n",
    "from torchvision import transforms, datasets\n",
    "import matplotlib.pyplot as plt\n",
    "\n",
    "def Fashion_mnist_data():\n",
    "    compose = transforms.Compose(\n",
    "        [transforms.ToTensor(),\n",
    "         transforms.Normalize([0.5], [0.5])]\n",
    "        )\n",
    "    out_dir = './dataset'\n",
    "    \n",
    "    train=datasets.FashionMNIST(root=out_dir, train=True, transform=compose, download=True)\n",
    "    test=datasets.FashionMNIST(root=out_dir, train=False, transform=compose, download=True)\n",
    "    \n",
    "    return train, test \n",
    "\n",
    "\n",
    "\n",
    "# Load data\n",
    "traindata, testdata = Fashion_mnist_data()\n",
    "train_loader = torch.utils.data.DataLoader(traindata, batch_size=100, shuffle=True)\n",
    "test_loader=torch.utils.data.DataLoader(testdata, batch_size=100, shuffle=True)\n",
    "# Num batches\n",
    "num_batches = len(train_loader)  #600\n",
    "print(len(test_loader))  #100"
   ]
  },
  {
   "cell_type": "code",
   "execution_count": 53,
   "metadata": {},
   "outputs": [],
   "source": [
    "class DiscriminatorNet(torch.nn.Module):\n",
    "    \"\"\"\n",
    "    A three hidden-layer discriminative neural network\n",
    "    \"\"\"\n",
    "    def __init__(self):\n",
    "        super(DiscriminatorNet, self).__init__()\n",
    "        n_features = 784\n",
    "        n_out = 10\n",
    "        \n",
    "        self.hidden0 = nn.Sequential( \n",
    "            nn.Linear(n_features, 1024),\n",
    "            nn.ReLU(),\n",
    "            nn.Dropout(0.3)\n",
    "        )\n",
    "        self.hidden1 = nn.Sequential(\n",
    "            nn.Linear(1024, 512),\n",
    "            #nn.LeakyReLU(0.2),\n",
    "            nn.ReLU(),\n",
    "            nn.Dropout(0.3)\n",
    "        )\n",
    "        self.hidden2 = nn.Sequential(\n",
    "            nn.Linear(512, 256),\n",
    "            nn.ReLU(),\n",
    "            nn.Dropout(0.3)\n",
    "        )\n",
    "        self.out = nn.Sequential(\n",
    "            torch.nn.Linear(256, n_out),\n",
    "            \n",
    "        )\n",
    "        \n",
    "    def forward(self, x):\n",
    "        x = self.hidden0(x)\n",
    "        x = self.hidden1(x)\n",
    "        x = self.hidden2(x)\n",
    "        x = self.out(x)\n",
    "        return x\n",
    "\n",
    "discriminator = DiscriminatorNet()"
   ]
  },
  {
   "cell_type": "code",
   "execution_count": 72,
   "metadata": {},
   "outputs": [],
   "source": [
    "class GeneratorNet(torch.nn.Module):\n",
    "    \"\"\"\n",
    "    A three hidden-layer generative neural network\n",
    "    \"\"\"\n",
    "    def __init__(self):\n",
    "        super(GeneratorNet, self).__init__()\n",
    "        n_features = 100\n",
    "        n_out = 784\n",
    "        \n",
    "        self.hidden0 = nn.Sequential(\n",
    "            nn.Linear(n_features, 256),\n",
    "            #nn.LeakyReLU(0.2)\n",
    "            nn.ReLU()\n",
    "        )\n",
    "        self.hidden1 = nn.Sequential(            \n",
    "            nn.Linear(256, 512),\n",
    "            #nn.LeakyReLU(0.2)\n",
    "            nn.ReLU()\n",
    "        )\n",
    "        self.hidden2 = nn.Sequential(\n",
    "            nn.Linear(512, 1024),\n",
    "            #nn.LeakyReLU(0.2)\n",
    "            nn.ReLU()\n",
    "        )\n",
    "        \n",
    "        self.out = nn.Sequential(\n",
    "            nn.Linear(1024, n_out),\n",
    "            nn.Tanh()\n",
    "        )\n",
    "\n",
    "    def forward(self, x):\n",
    "        x = self.hidden0(x)\n",
    "        x = self.hidden1(x)\n",
    "        x = self.hidden2(x)\n",
    "        x = self.out(x)\n",
    "        return x\n",
    "    \n",
    "generator = GeneratorNet()"
   ]
  },
  {
   "cell_type": "code",
   "execution_count": null,
   "metadata": {},
   "outputs": [],
   "source": []
  },
  {
   "cell_type": "code",
   "execution_count": 55,
   "metadata": {},
   "outputs": [],
   "source": [
    "def noise(size):\n",
    "    '''\n",
    "    Generates a 1-d vector of gaussian sampled random values\n",
    "    '''\n",
    "    n = Variable(torch.randn(size, 100))\n",
    "    return n\n",
    "\n",
    "def images_to_vectors(images):\n",
    "    return images.view(images.size(0), 784)\n",
    "\n",
    "def vectors_to_images(vectors):\n",
    "    return vectors.view(vectors.size(0), 1, 28, 28)"
   ]
  },
  {
   "cell_type": "code",
   "execution_count": 56,
   "metadata": {},
   "outputs": [],
   "source": [
    "discriminator = DiscriminatorNet()\n",
    "generator = GeneratorNet()\n",
    "if torch.cuda.is_available():\n",
    "    discriminator.cuda()\n",
    "    generator.cuda()\n",
    "    "
   ]
  },
  {
   "cell_type": "code",
   "execution_count": null,
   "metadata": {},
   "outputs": [],
   "source": []
  },
  {
   "cell_type": "code",
   "execution_count": 57,
   "metadata": {},
   "outputs": [],
   "source": [
    "d_optimizer = optim.Adam(discriminator.parameters(), lr=0.0002)\n",
    "g_optimizer = optim.Adam(generator.parameters(), lr=0.0002)\n",
    "\n",
    "loss= nn.CrossEntropyLoss()\n"
   ]
  },
  {
   "cell_type": "code",
   "execution_count": 58,
   "metadata": {},
   "outputs": [],
   "source": [
    "#test model\n",
    "def evaluate(model, dataset, criterion):    \n",
    "    test_loss = 0\n",
    "    test_acc = 0\n",
    "    acc=0   \n",
    "    N=100\n",
    "    model.eval()    \n",
    "    with torch.no_grad():    \n",
    "        for inputs, labels in dataset:             \n",
    "            real_data=images_to_vectors(inputs)\n",
    "            pred=model(real_data) \n",
    "            loss = criterion(pred, labels.long())             \n",
    "            test_acc += torch.sum(torch.argmax(pred, dim=1) == labels).item()            \n",
    "            test_loss += loss.item()\n",
    "                  \n",
    "    return test_loss /N, test_acc /N"
   ]
  },
  {
   "cell_type": "code",
   "execution_count": null,
   "metadata": {},
   "outputs": [],
   "source": []
  },
  {
   "cell_type": "code",
   "execution_count": 59,
   "metadata": {},
   "outputs": [
    {
     "name": "stdout",
     "output_type": "stream",
     "text": [
      "epoch train loss: 0.5652979350090027 Acc: 79.53666666666666 test_loss: 0.4407712423801422 test_acc: 84.13\n",
      "epoch train loss: 0.428389621352156 Acc: 84.435 test_loss: 0.41351878106594087 test_acc: 85.44\n",
      "epoch train loss: 0.39195783170560994 Acc: 85.89166666666667 test_loss: 0.38283736288547515 test_acc: 86.43\n",
      "epoch train loss: 0.3738751944154501 Acc: 86.41 test_loss: 0.3741066715121269 test_acc: 86.61\n",
      "epoch train loss: 0.35506475607554117 Acc: 87.22833333333334 test_loss: 0.3597383435070515 test_acc: 86.84\n",
      "epoch train loss: 0.3400972378005584 Acc: 87.64166666666667 test_loss: 0.37152022138237956 test_acc: 86.85\n",
      "epoch train loss: 0.32954443035026393 Acc: 88.03166666666667 test_loss: 0.3654682901501656 test_acc: 86.76\n",
      "epoch train loss: 0.3206926089525223 Acc: 88.355 test_loss: 0.3394485993683338 test_acc: 88.15\n",
      "epoch train loss: 0.3136321183294058 Acc: 88.47166666666666 test_loss: 0.3526961673796177 test_acc: 87.3\n",
      "epoch train loss: 0.30335311878472565 Acc: 88.94166666666666 test_loss: 0.3516405586898327 test_acc: 87.39\n",
      "epoch train loss: 0.299896173166732 Acc: 88.92 test_loss: 0.35561213389039037 test_acc: 87.34\n",
      "epoch train loss: 0.2942470706626773 Acc: 89.22833333333334 test_loss: 0.3404656885564327 test_acc: 88.22\n",
      "epoch train loss: 0.2870161569491029 Acc: 89.34833333333333 test_loss: 0.33811619117856023 test_acc: 88.53\n",
      "epoch train loss: 0.2847040660182635 Acc: 89.51666666666667 test_loss: 0.33851065903902056 test_acc: 88.22\n",
      "epoch train loss: 0.27725697374592223 Acc: 89.68833333333333 test_loss: 0.3316450572013855 test_acc: 88.34\n",
      "epoch train loss: 0.2748549229403337 Acc: 89.79833333333333 test_loss: 0.3351940555870533 test_acc: 88.35\n",
      "epoch train loss: 0.27200502819071215 Acc: 89.94 test_loss: 0.3367449939250946 test_acc: 88.93\n",
      "epoch train loss: 0.2637565583487352 Acc: 90.165 test_loss: 0.32099030666053296 test_acc: 88.87\n",
      "epoch train loss: 0.2594548088933031 Acc: 90.415 test_loss: 0.3120125961303711 test_acc: 89.26\n",
      "epoch train loss: 0.256671953573823 Acc: 90.31833333333333 test_loss: 0.3228564420342445 test_acc: 88.91\n",
      "epoch train loss: 0.2579377760986487 Acc: 90.42 test_loss: 0.3230822503566742 test_acc: 88.91\n",
      "epoch train loss: 0.25288046928743524 Acc: 90.625 test_loss: 0.3352370905131102 test_acc: 88.76\n",
      "epoch train loss: 0.24794404218594232 Acc: 90.86 test_loss: 0.3175160403549671 test_acc: 88.88\n",
      "epoch train loss: 0.24943540992836158 Acc: 90.79166666666667 test_loss: 0.34882314190268515 test_acc: 88.74\n",
      "epoch train loss: 0.23898625859990716 Acc: 91.28166666666667 test_loss: 0.3194872281700373 test_acc: 89.28\n",
      "epoch train loss: 0.2386118330185612 Acc: 91.20833333333333 test_loss: 0.32675217747688295 test_acc: 89.12\n",
      "epoch train loss: 0.2368999637166659 Acc: 91.32833333333333 test_loss: 0.3244192223250866 test_acc: 89.05\n",
      "epoch train loss: 0.23494278763731322 Acc: 91.29666666666667 test_loss: 0.32309870935976504 test_acc: 88.88\n",
      "epoch train loss: 0.23326119527220726 Acc: 91.31 test_loss: 0.3420367293059826 test_acc: 89.1\n",
      "epoch train loss: 0.2313060823827982 Acc: 91.44833333333334 test_loss: 0.32103237256407735 test_acc: 89.15\n",
      "epoch train loss: 0.2296320757828653 Acc: 91.56666666666666 test_loss: 0.32856413766741754 test_acc: 89.15\n",
      "epoch train loss: 0.22669736559192338 Acc: 91.63666666666667 test_loss: 0.33067936792969704 test_acc: 89.18\n",
      "epoch train loss: 0.22787351119021573 Acc: 91.67833333333333 test_loss: 0.3234875524044037 test_acc: 89.42\n",
      "epoch train loss: 0.22675983872264624 Acc: 91.695 test_loss: 0.3230236379802227 test_acc: 89.18\n",
      "epoch train loss: 0.22055791173130274 Acc: 91.75 test_loss: 0.3250014495849609 test_acc: 89.42\n",
      "epoch train loss: 0.2163992492047449 Acc: 91.96166666666667 test_loss: 0.34297908857464793 test_acc: 89.58\n",
      "epoch train loss: 0.21707998031129438 Acc: 91.82833333333333 test_loss: 0.3344583150744438 test_acc: 88.87\n",
      "epoch train loss: 0.21262963317334652 Acc: 92.15333333333334 test_loss: 0.3282885676622391 test_acc: 89.6\n",
      "epoch train loss: 0.208677381084611 Acc: 92.32833333333333 test_loss: 0.33774006709456444 test_acc: 89.57\n",
      "epoch train loss: 0.20961664117872714 Acc: 92.13166666666666 test_loss: 0.3728428132086992 test_acc: 88.81\n",
      "epoch train loss: 0.20878757374361157 Acc: 92.42833333333333 test_loss: 0.33046153068542483 test_acc: 89.22\n",
      "epoch train loss: 0.21163841187333068 Acc: 92.355 test_loss: 0.32764627441763877 test_acc: 89.36\n",
      "epoch train loss: 0.20510143137226503 Acc: 92.32833333333333 test_loss: 0.3295052783936262 test_acc: 89.39\n",
      "epoch train loss: 0.20214878919844825 Acc: 92.515 test_loss: 0.3252334802597761 test_acc: 89.72\n",
      "epoch train loss: 0.20332304324954747 Acc: 92.34333333333333 test_loss: 0.3357772259414196 test_acc: 89.44\n",
      "epoch train loss: 0.20320292457938194 Acc: 92.50333333333333 test_loss: 0.33012116864323615 test_acc: 89.68\n",
      "epoch train loss: 0.20066344947864612 Acc: 92.575 test_loss: 0.3465783090144396 test_acc: 89.44\n",
      "epoch train loss: 0.19557395321627458 Acc: 92.84 test_loss: 0.34697000302374364 test_acc: 89.44\n",
      "epoch train loss: 0.19620842368652422 Acc: 92.81833333333333 test_loss: 0.3637781097739935 test_acc: 89.04\n",
      "epoch train loss: 0.1960450913074116 Acc: 92.76833333333333 test_loss: 0.33898687541484834 test_acc: 89.0\n",
      "epoch train loss: 0.1971221009331445 Acc: 92.77 test_loss: 0.35171285152435305 test_acc: 89.41\n",
      "epoch train loss: 0.1926185851978759 Acc: 92.97166666666666 test_loss: 0.34382823392748835 test_acc: 89.19\n",
      "epoch train loss: 0.19541873413448532 Acc: 92.86 test_loss: 0.34587068945169447 test_acc: 89.55\n",
      "epoch train loss: 0.18795063009485602 Acc: 93.08333333333333 test_loss: 0.3543082341551781 test_acc: 89.21\n",
      "epoch train loss: 0.19151933801049986 Acc: 93.015 test_loss: 0.34236070938408375 test_acc: 89.75\n",
      "epoch train loss: 0.1837039872693519 Acc: 93.23666666666666 test_loss: 0.35480535320937634 test_acc: 89.14\n",
      "epoch train loss: 0.1839134353523453 Acc: 93.30666666666667 test_loss: 0.35747949711978433 test_acc: 89.32\n",
      "epoch train loss: 0.18840396735196313 Acc: 93.135 test_loss: 0.3402794037759304 test_acc: 89.46\n",
      "epoch train loss: 0.18113298888628682 Acc: 93.33166666666666 test_loss: 0.3388958713412285 test_acc: 89.01\n",
      "epoch train loss: 0.18163494115074474 Acc: 93.30333333333333 test_loss: 0.3575126339495182 test_acc: 89.06\n",
      "epoch train loss: 0.17628440792982777 Acc: 93.45333333333333 test_loss: 0.35420389294624327 test_acc: 89.21\n",
      "epoch train loss: 0.18695995410283406 Acc: 93.215 test_loss: 0.35316057682037355 test_acc: 89.37\n",
      "epoch train loss: 0.17638333295782407 Acc: 93.64166666666667 test_loss: 0.345955743342638 test_acc: 89.68\n",
      "epoch train loss: 0.183443997297436 Acc: 93.35833333333333 test_loss: 0.357478566840291 test_acc: 89.74\n",
      "epoch train loss: 0.18348958555608988 Acc: 93.35 test_loss: 0.3495461834967136 test_acc: 89.37\n",
      "epoch train loss: 0.17641184733559687 Acc: 93.48166666666667 test_loss: 0.3575299205631018 test_acc: 89.41\n",
      "epoch train loss: 0.17899488866950075 Acc: 93.51833333333333 test_loss: 0.3506211191415787 test_acc: 89.52\n",
      "epoch train loss: 0.17280632206549248 Acc: 93.59833333333333 test_loss: 0.35628398150205615 test_acc: 89.52\n",
      "epoch train loss: 0.16635866940642396 Acc: 93.86333333333333 test_loss: 0.37991086959838866 test_acc: 89.28\n",
      "epoch train loss: 0.17880329431345066 Acc: 93.44333333333333 test_loss: 0.3693781617283821 test_acc: 89.76\n",
      "epoch train loss: 0.17858436112602552 Acc: 93.70333333333333 test_loss: 0.35638304620981215 test_acc: 89.32\n",
      "epoch train loss: 0.16683878358453513 Acc: 93.785 test_loss: 0.3773907596617937 test_acc: 89.53\n",
      "epoch train loss: 0.16973707880824804 Acc: 93.77 test_loss: 0.3782655780017376 test_acc: 89.31\n",
      "epoch train loss: 0.1705704857719441 Acc: 93.78 test_loss: 0.35885589227080344 test_acc: 89.76\n",
      "epoch train loss: 0.16698698978560667 Acc: 93.99666666666667 test_loss: 0.3571037164330482 test_acc: 89.56\n",
      "epoch train loss: 0.16403791839256882 Acc: 94.12 test_loss: 0.3502130080759525 test_acc: 89.51\n",
      "epoch train loss: 0.16373302969460687 Acc: 94.15833333333333 test_loss: 0.3764029532670975 test_acc: 89.35\n",
      "epoch train loss: 0.16097215458129843 Acc: 94.165 test_loss: 0.3591458122432232 test_acc: 89.68\n",
      "epoch train loss: 0.16627154944464564 Acc: 94.02833333333334 test_loss: 0.37044488318264485 test_acc: 89.46\n",
      "epoch train loss: 0.16319304254526892 Acc: 94.13666666666667 test_loss: 0.38232991062104704 test_acc: 89.63\n"
     ]
    }
   ],
   "source": [
    "# train D as a classifer \n",
    "   \n",
    "optimizer = optim.Adam(discriminator.parameters(), lr=0.001)   \n",
    "loss= nn.CrossEntropyLoss()\n",
    "epochs=80\n",
    "\n",
    "Loss1=[]\n",
    "Loss2=[]\n",
    "Acc1=[]\n",
    "Acc2=[]\n",
    "N=600\n",
    "\n",
    "for i in range(epochs):\n",
    "    train_loss=0\n",
    "    train_acc=0\n",
    "    discriminator.train()\n",
    "    for inputs, labels in train_loader:\n",
    "        optimizer.zero_grad()\n",
    "        real_data=images_to_vectors(inputs) \n",
    "        out=discriminator(real_data)  \n",
    "        error= loss(out, labels.long())\n",
    "        error.backward()\n",
    "        optimizer.step()\n",
    "        \n",
    "        # statitic loss\n",
    "        train_loss += error.item()\n",
    "        train_acc += torch.sum(torch.argmax(out, dim=1) == labels).item()\n",
    "        \n",
    "   \n",
    "    test_loss, test_acc=evaluate(discriminator, test_loader, loss)\n",
    "    \n",
    "    Loss1.append(train_loss/N)\n",
    "    Loss2.append(test_loss)\n",
    "    Acc1.append(train_acc/N)\n",
    "    Acc2.append(test_acc)\n",
    "    \n",
    "    print(\"epoch train loss:\",train_loss/N, \"Acc:\", train_acc/N, \"test_loss:\",  test_loss,\"test_acc:\" ,test_acc)\n",
    "\n",
    "    "
   ]
  },
  {
   "cell_type": "code",
   "execution_count": 71,
   "metadata": {},
   "outputs": [
    {
     "data": {
      "text/plain": [
       "Text(0, 0.5, 'Accuracy %')"
      ]
     },
     "execution_count": 71,
     "metadata": {},
     "output_type": "execute_result"
    },
    {
     "data": {
      "image/png": "[encoded data removed]",
      "text/plain": [
       "<Figure size 432x288 with 1 Axes>"
      ]
     },
     "metadata": {
      "needs_background": "light"
     },
     "output_type": "display_data"
    }
   ],
   "source": [
    "## plot \n",
    "plt.title('Discriminator Acc Curve')\n",
    "plt.plot(Acc1,'b')\n",
    "plt.plot(Acc2,'r')\n",
    "plt.ylim((70, 100))\n",
    "plt.legend(['TrainAcc','TestAcc'])\n",
    "plt.xlabel('Epochs')\n",
    "plt.ylabel('Accuracy %')"
   ]
  },
  {
   "cell_type": "code",
   "execution_count": 96,
   "metadata": {},
   "outputs": [
    {
     "data": {
      "image/png": "[encoded data removed]",
      "text/plain": [
       "<Figure size 432x288 with 1 Axes>"
      ]
     },
     "metadata": {
      "needs_background": "light"
     },
     "output_type": "display_data"
    }
   ],
   "source": [
    "# load generator model \n",
    "PATH=\"/Users/dl/generator\"\n",
    "generator_dict=generator.load_state_dict(torch.load(PATH))\n",
    "#generator.state_dict()\n",
    "\n",
    "fake_data = generator(noise(3000)).detach()\n",
    "\n",
    "prediction_fake = discriminator(fake_data)\n",
    "\n",
    "pre_label=torch.argmax(prediction_fake, dim=1)\n",
    "\n",
    "\n",
    "# plot histogram of predicted labels\n",
    "plt.hist(pre_label, bins=20, density=True)\n",
    "plt.xlabel('Vanilla GAN generator labels')\n",
    "plt.ylabel('data distribution')\n",
    "plt.show()"
   ]
  },
  {
   "cell_type": "code",
   "execution_count": 94,
   "metadata": {},
   "outputs": [
    {
     "data": {
      "image/png": "[encoded data removed]",
      "text/plain": [
       "<Figure size 432x288 with 1 Axes>"
      ]
     },
     "metadata": {
      "needs_background": "light"
     },
     "output_type": "display_data"
    }
   ],
   "source": [
    "## compare 3000 examples from vanilla GAN, WGAN, unrolled GAN\n",
    "\n",
    "# load generator model \n",
    "PATH=\"/Users/dl/gen_WGAN\"\n",
    "generator_dict=generator.load_state_dict(torch.load(PATH))\n",
    "#generator.state_dict()\n",
    "\n",
    "fake_data = generator(noise(3000)).detach()\n",
    "\n",
    "prediction_fake = discriminator(fake_data)\n",
    "\n",
    "pre_label=torch.argmax(prediction_fake, dim=1)\n",
    "\n",
    "plt.hist(pre_label, bins=20, density=True)\n",
    "plt.xlabel('WGAN generator labels')\n",
    "plt.ylabel('data distribution')\n",
    "plt.show()"
   ]
  },
  {
   "cell_type": "code",
   "execution_count": 95,
   "metadata": {},
   "outputs": [
    {
     "data": {
      "image/png": "[encoded data removed]",
      "text/plain": [
       "<Figure size 432x288 with 1 Axes>"
      ]
     },
     "metadata": {
      "needs_background": "light"
     },
     "output_type": "display_data"
    }
   ],
   "source": [
    "# load generator model \n",
    "PATH=\"/Users/dl/gen_unroll\"\n",
    "generator_dict=generator.load_state_dict(torch.load(PATH))\n",
    "#generator.state_dict()\n",
    "\n",
    "fake_data = generator(noise(3000)).detach()\n",
    "\n",
    "prediction_fake = discriminator(fake_data)\n",
    "\n",
    "pre_label=torch.argmax(prediction_fake, dim=1)\n",
    "\n",
    "plt.hist(pre_label, bins=20, density=True)\n",
    "plt.xlabel('Unrolled GAN generator labels')\n",
    "plt.ylabel('data distribution')\n",
    "plt.show()"
   ]
  },
  {
   "cell_type": "code",
   "execution_count": null,
   "metadata": {},
   "outputs": [],
   "source": []
  }
 ],
 "metadata": {
  "kernelspec": {
   "display_name": "Python 3",
   "language": "python",
   "name": "python3"
  },
  "language_info": {
   "codemirror_mode": {
    "name": "ipython",
    "version": 3
   },
   "file_extension": ".py",
   "mimetype": "text/x-python",
   "name": "python",
   "nbconvert_exporter": "python",
   "pygments_lexer": "ipython3",
   "version": "3.7.7"
  }
 },
 "nbformat": 4,
 "nbformat_minor": 4
}
