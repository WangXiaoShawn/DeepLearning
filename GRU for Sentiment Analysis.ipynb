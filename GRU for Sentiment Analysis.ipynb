{
 "cells": [
  {
   "cell_type": "code",
   "execution_count": 1,
   "metadata": {},
   "outputs": [],
   "source": [
    "import os\n",
    "import re\n",
    "import nltk\n",
    "from nltk.tokenize import sent_tokenize,word_tokenize\n",
    "\n",
    "from collections import Counter  \n",
    "import numpy as np\n",
    "import string \n",
    "#import spacy\n",
    "from nltk.stem import PorterStemmer\n",
    "from collections import Counter  \n",
    "from nltk.corpus import stopwords\n"
   ]
  },
  {
   "cell_type": "code",
   "execution_count": 2,
   "metadata": {},
   "outputs": [
    {
     "data": {
      "text/plain": [
       "25000"
      ]
     },
     "execution_count": 2,
     "metadata": {},
     "output_type": "execute_result"
    }
   ],
   "source": [
    "#load data \n",
    "\n",
    "def get_data(path):\n",
    "    files=os.listdir(path)\n",
    "    data=[]\n",
    "    for fsub in files:\n",
    "        f = open(path+\"/\"+fsub,\"r\",encoding='UTF-8').read()\n",
    "        data.append(f)\n",
    "    return data\n",
    "\n",
    "#path='/Users/dl/Documents/RIT related/aclImdb/train/'\n",
    "#path2='/Users/dl/Documents/RIT related/aclImdb/test/'\n",
    "\n",
    "path = \"C:/Users/wangx/IMDB/train/\"\n",
    "path2 = \"C:/Users/wangx/IMDB/test/\"\n",
    "\n",
    "train_pos=get_data(path+'pos')   # 12500  list\n",
    "train_neg=get_data(path+'neg')   # 12500\n",
    "train_data=train_pos+train_neg   # 25000\n",
    "test_pos=get_data(path2+'pos')   # 12500  list\n",
    "test_neg=get_data(path2+'neg')\n",
    "test_data=test_pos+test_neg      # 25000\n",
    "len(test_data)\n",
    "#train_data"
   ]
  },
  {
   "cell_type": "code",
   "execution_count": 3,
   "metadata": {},
   "outputs": [
    {
     "data": {
      "text/plain": [
       "30202"
      ]
     },
     "execution_count": 3,
     "metadata": {},
     "output_type": "execute_result"
    }
   ],
   "source": [
    "# build vocab with frequency\n",
    "from nltk.corpus import stopwords\n",
    "stop_words = set(stopwords.words('english'))\n",
    "\n",
    "def vocabulary(data):\n",
    "    total=[]\n",
    "    ps=PorterStemmer() \n",
    "    for s in data:\n",
    "        word=word_tokenize(s)\n",
    "        for w in word:\n",
    "            if w.lower().isalpha() and w.lower() not in stop_words:\n",
    "                total.append(ps.stem(w.lower()))   \n",
    "\n",
    "    vocab=Counter(total)\n",
    "    # Removing the words that only appear once\n",
    "    vocab = {k:v for k,v in vocab.items() if v>1}\n",
    "    # Sorting the words according to the number of appearances, with the most common word being first\n",
    "    vocab = sorted(vocab, key=vocab.get, reverse=True)\n",
    "    vocab = ['_UNK'] + vocab\n",
    "    word2idx = {o:i for i,o in enumerate(vocab)}\n",
    "    idx2word = {i:o for i,o in enumerate(vocab)}\n",
    "    return word2idx,idx2word\n",
    "                \n",
    "word2idx,idx2word=vocabulary(train_data)\n",
    "#len(vocab)  #48448\n",
    "len(word2idx)  #30202"
   ]
  },
  {
   "cell_type": "code",
   "execution_count": 4,
   "metadata": {},
   "outputs": [],
   "source": [
    "\n",
    "def data_proprocessing(data,word2idx):\n",
    "    dataclean=[]\n",
    "    ps=PorterStemmer() \n",
    "    for s in data:\n",
    "        sen=[]\n",
    "        word=word_tokenize(s)\n",
    "        for w in word:\n",
    "            if w.lower().isalpha() and w.lower() not in stop_words:\n",
    "                sen.append(ps.stem(w.lower()))            \n",
    "        \n",
    "        #text_as_int = [vocab[c] for c in sen]  \n",
    "        text_as_int=[word2idx[word] if word in word2idx else 0 for word in sen]\n",
    "        if len(sen)>400:\n",
    "            data_list=text_as_int[0:400]\n",
    "        else:\n",
    "            l=400-len(sen)\n",
    "            data_list=[0]*l+text_as_int                  \n",
    "        dataclean.append(data_list)    \n",
    "    return np.array(dataclean)"
   ]
  },
  {
   "cell_type": "code",
   "execution_count": 5,
   "metadata": {},
   "outputs": [
    {
     "data": {
      "text/plain": [
       "25000"
      ]
     },
     "execution_count": 5,
     "metadata": {},
     "output_type": "execute_result"
    }
   ],
   "source": [
    "train_x=data_proprocessing(train_data,word2idx)\n",
    "test_x=data_proprocessing(test_data,word2idx)\n",
    "#len(test_x)  # 25000\n",
    "\n",
    "N=len(train_pos)\n",
    "train_y=np.vstack((np.ones((N,1)),np.zeros((N,1))))\n",
    "test_y=np.vstack((np.ones((N,1)),np.zeros((N,1))))\n",
    "len(train_x)"
   ]
  },
  {
   "cell_type": "code",
   "execution_count": 6,
   "metadata": {},
   "outputs": [],
   "source": [
    "import torch\n",
    "import torchvision\n",
    "from torch.utils.data import TensorDataset, DataLoader\n",
    "import torch.nn as nn\n",
    "import matplotlib.pyplot as plt\n",
    "from torch.optim import lr_scheduler\n",
    "\n",
    "train_data=TensorDataset(torch.from_numpy(train_x),torch.from_numpy(train_y))\n",
    "test_data = TensorDataset(torch.from_numpy(test_x), torch.from_numpy(test_y))\n",
    "batch_size =50\n",
    "train_loader = DataLoader(train_data, shuffle=True, batch_size=batch_size)\n",
    "test_loader = DataLoader(test_data, shuffle=True, batch_size=batch_size)"
   ]
  },
  {
   "cell_type": "code",
   "execution_count": 7,
   "metadata": {},
   "outputs": [
    {
     "data": {
      "text/plain": [
       "device(type='cuda')"
      ]
     },
     "execution_count": 7,
     "metadata": {},
     "output_type": "execute_result"
    }
   ],
   "source": [
    "is_cuda = torch.cuda.is_available()\n",
    "\n",
    "# If we have a GPU available, we'll set our device to GPU. We'll use this device variable later in our code.\n",
    "if is_cuda:\n",
    "    device = torch.device(\"cuda\")\n",
    "else:\n",
    "    device = torch.device(\"cpu\")\n",
    "device\n"
   ]
  },
  {
   "cell_type": "code",
   "execution_count": 8,
   "metadata": {},
   "outputs": [],
   "source": [
    "# design GRU model \n",
    "import torch.nn as nn\n",
    "\n",
    "class GRUSentiment(nn.Module):\n",
    "    def __init__(self,vocab_size, output_size, embedding_dim, hidden_dim, n_layers,drop_prob=0.2):   \n",
    "        super(GRUSentiment, self).__init__()\n",
    "        self.output_size = output_size\n",
    "        self.n_layers = n_layers\n",
    "        self.hidden_dim = hidden_dim\n",
    "        \n",
    "        self.embedding = nn.Embedding(vocab_size, embedding_dim)\n",
    "        self.gru = nn.GRU(embedding_dim, hidden_dim, n_layers, batch_first=True)\n",
    "        self.dropout = nn.Dropout(drop_prob)\n",
    "        self.fc = nn.Linear(hidden_dim, output_size)\n",
    "        \n",
    "    def forward(self, x):\n",
    "        batch_size = x.size(0)\n",
    "        x = x.long()\n",
    "        embeds = self.embedding(x)\n",
    "        gru_out, hidden = self.gru(embeds)\n",
    "        out=self.dropout(gru_out)\n",
    "        \n",
    "        out = self.fc(out)        \n",
    "        out = out.view(batch_size, -1)\n",
    "        #out = out[:,-1]  # get the last one\n",
    "        out=out[:,-1].view(-1,1)\n",
    "        return out"
   ]
  },
  {
   "cell_type": "code",
   "execution_count": 9,
   "metadata": {},
   "outputs": [
    {
     "data": {
      "text/plain": [
       "GRUSentiment(\n",
       "  (embedding): Embedding(30202, 400)\n",
       "  (gru): GRU(400, 256, batch_first=True)\n",
       "  (dropout): Dropout(p=0.2, inplace=False)\n",
       "  (fc): Linear(in_features=256, out_features=1, bias=True)\n",
       ")"
      ]
     },
     "execution_count": 9,
     "metadata": {},
     "output_type": "execute_result"
    }
   ],
   "source": [
    "vocab_size =  len(word2idx) \n",
    "output_size = 1\n",
    "embedding_dim = 400\n",
    "hidden_dim = 256\n",
    "n_layers = 1\n",
    "\n",
    "model1 = GRUSentiment(vocab_size, output_size, embedding_dim, hidden_dim, n_layers)\n",
    "model1.to(device)\n",
    "\n",
    "lr=1e-4\n",
    "#criterion = nn.BCELoss()\n",
    "criterion = nn.BCEWithLogitsLoss()\n",
    "optimizer = torch.optim.Adam(model1.parameters(), lr=lr)\n",
    "model1.eval()"
   ]
  },
  {
   "cell_type": "code",
   "execution_count": 11,
   "metadata": {},
   "outputs": [
    {
     "data": {
      "text/plain": [
       "tensor(0.6582, device='cuda:0', dtype=torch.float64,\n",
       "       grad_fn=<BinaryCrossEntropyWithLogitsBackward>)"
      ]
     },
     "execution_count": 11,
     "metadata": {},
     "output_type": "execute_result"
    }
   ],
   "source": [
    "model1.train() \n",
    "for inputs, labels in train_loader:\n",
    "                \n",
    "        inputs, labels = inputs.to(device), labels.to(device)\n",
    "        #model.zero_grad()\n",
    "        optimizer.zero_grad()        \n",
    "        output= model1(inputs)\n",
    "        loss = criterion(output, labels)\n",
    "        loss.backward()\n",
    "loss"
   ]
  },
  {
   "cell_type": "code",
   "execution_count": 23,
   "metadata": {},
   "outputs": [
    {
     "data": {
      "text/plain": [
       "torch.Size([200, 1])"
      ]
     },
     "execution_count": 23,
     "metadata": {},
     "output_type": "execute_result"
    }
   ],
   "source": []
  },
  {
   "cell_type": "code",
   "execution_count": 12,
   "metadata": {},
   "outputs": [],
   "source": [
    "def binary_accuracy(preds, y):\n",
    "    \"\"\"\n",
    "    Returns accuracy per batch, i.e. if you get 8/10 right, this returns 0.8, NOT 8\n",
    "    \"\"\"\n",
    "\n",
    "    #round predictions to the closest integer\n",
    "    rounded_preds = torch.round(torch.sigmoid(preds))\n",
    "    correct = (rounded_preds == y).float() #convert into float for division \n",
    "    #acc = correct.sum() / len(correct)\n",
    "    acc = correct.sum()\n",
    "    return acc"
   ]
  },
  {
   "cell_type": "code",
   "execution_count": 13,
   "metadata": {},
   "outputs": [],
   "source": [
    "def evaluate(model1, dataset, criterion):    \n",
    "    epoch_loss = 0\n",
    "    epoch_acc = 0\n",
    "    model1.eval()    \n",
    "    N=25000\n",
    "    with torch.no_grad():    \n",
    "        for data, label in dataset:\n",
    "            data, label = data.to(device), label.to(device)\n",
    "            pred = model1(data)            \n",
    "            loss = criterion(pred, label)           \n",
    "            acc = binary_accuracy(pred.squeeze(), label.squeeze())\n",
    "            \n",
    "            epoch_loss += loss.item()\n",
    "            epoch_acc += acc.item()        \n",
    "    return epoch_loss / N, epoch_acc /N"
   ]
  },
  {
   "cell_type": "code",
   "execution_count": 14,
   "metadata": {},
   "outputs": [
    {
     "name": "stdout",
     "output_type": "stream",
     "text": [
      "epoch Loss: 0.010110035347163713 epoch Acc: 0.75396 testloss: 0.00851616707714721 test_acc 0.81264\n",
      "epoch Loss: 0.006123943786484509 epoch Acc: 0.8756 testloss: 0.00699617518677562 test_acc 0.85132\n",
      "epoch Loss: 0.003884648330975434 epoch Acc: 0.92752 testloss: 0.00742989704023615 test_acc 0.84976\n",
      "epoch Loss: 0.0021795739101056755 epoch Acc: 0.9632 testloss: 0.008253110048546187 test_acc 0.85856\n",
      "epoch Loss: 0.0011868886907961953 epoch Acc: 0.979 testloss: 0.009741987888377119 test_acc 0.85088\n",
      "epoch Loss: 0.0005742287262294822 epoch Acc: 0.99004 testloss: 0.011744406331599205 test_acc 0.85536\n",
      "epoch Loss: 0.0004290051630245658 epoch Acc: 0.99356 testloss: 0.013284818412529289 test_acc 0.8558\n",
      "epoch Loss: 0.0004872762547648221 epoch Acc: 0.99184 testloss: 0.013618180030265515 test_acc 0.85364\n",
      "epoch Loss: 0.00025799657296335284 epoch Acc: 0.996 testloss: 0.01430205151439855 test_acc 0.8498\n",
      "epoch Loss: 0.00011545907438338615 epoch Acc: 0.99852 testloss: 0.015496718770280034 test_acc 0.85528\n",
      "epoch Loss: 0.0003695092366900773 epoch Acc: 0.99404 testloss: 0.014229978973300285 test_acc 0.85004\n",
      "epoch Loss: 0.0002892092205657953 epoch Acc: 0.99492 testloss: 0.014948692918587737 test_acc 0.84872\n",
      "epoch Loss: 0.0002827803579423138 epoch Acc: 0.99572 testloss: 0.01469587175364119 test_acc 0.84992\n",
      "epoch Loss: 0.00026650953838330084 epoch Acc: 0.99572 testloss: 0.018725964588334903 test_acc 0.84388\n",
      "epoch Loss: 0.00012368189109904476 epoch Acc: 0.99784 testloss: 0.017683643016454146 test_acc 0.85508\n",
      "epoch Loss: 0.00010601121441191239 epoch Acc: 0.9984 testloss: 0.018348535891676832 test_acc 0.85404\n",
      "epoch Loss: 0.0001975279552864847 epoch Acc: 0.99692 testloss: 0.01782750033851131 test_acc 0.852\n",
      "epoch Loss: 0.00011669143162317386 epoch Acc: 0.99824 testloss: 0.018558054304303274 test_acc 0.85244\n",
      "epoch Loss: 0.00015948550440849103 epoch Acc: 0.99756 testloss: 0.018555763859905962 test_acc 0.84512\n",
      "epoch Loss: 0.0001970537659925563 epoch Acc: 0.99668 testloss: 0.019438888316120725 test_acc 0.8498\n",
      "epoch Loss: 0.00014442958667783759 epoch Acc: 0.99816 testloss: 0.01907605396271673 test_acc 0.85156\n",
      "epoch Loss: 5.898888403219126e-05 epoch Acc: 0.99892 testloss: 0.020154656975457878 test_acc 0.84944\n",
      "epoch Loss: 8.880128212548226e-05 epoch Acc: 0.99876 testloss: 0.020008859069456663 test_acc 0.84576\n",
      "epoch Loss: 0.00012631725319004153 epoch Acc: 0.99804 testloss: 0.019277943952420235 test_acc 0.84956\n",
      "epoch Loss: 8.272716766973845e-05 epoch Acc: 0.99864 testloss: 0.02007526982417044 test_acc 0.8508\n",
      "epoch Loss: 2.5036187092311196e-05 epoch Acc: 0.99972 testloss: 0.022127249244754798 test_acc 0.84612\n",
      "epoch Loss: 8.862170400138376e-05 epoch Acc: 0.99876 testloss: 0.02251307851493391 test_acc 0.84636\n",
      "epoch Loss: 0.0001170632416775985 epoch Acc: 0.99808 testloss: 0.02138949698957115 test_acc 0.847\n",
      "epoch Loss: 6.480867028646989e-05 epoch Acc: 0.99884 testloss: 0.02243194628216439 test_acc 0.85012\n",
      "epoch Loss: 5.228043296896811e-05 epoch Acc: 0.99932 testloss: 0.02417196554346949 test_acc 0.83796\n"
     ]
    }
   ],
   "source": [
    "def fitModel(epochs,model,criterion,optimizer,train_loader,test_loader,N):\n",
    "    clip =5\n",
    "    trainAcc=[]\n",
    "    testAcc=[]\n",
    "    #model1.train()\n",
    "    for i in range(epochs):\n",
    "        epoch_loss = 0\n",
    "        epoch_acc = 0\n",
    "\n",
    "        test_loss=0\n",
    "        test_acc=0\n",
    "\n",
    "        model1.train() \n",
    "        for inputs, labels in train_loader:\n",
    "\n",
    "            inputs, labels = inputs.to(device), labels.to(device)\n",
    "            #model.zero_grad()\n",
    "            optimizer.zero_grad()        \n",
    "            output= model1(inputs)\n",
    "            loss = criterion(output, labels)\n",
    "            loss.backward()\n",
    "            acc = binary_accuracy(output.squeeze(), labels.squeeze())\n",
    "            nn.utils.clip_grad_norm_(model1.parameters(), clip)\n",
    "            optimizer.step()\n",
    "\n",
    "            epoch_loss += loss.item()\n",
    "            epoch_acc += acc.item()\n",
    "\n",
    "        test_loss, test_acc =evaluate(model1, test_loader, criterion)          \n",
    "        print(\"epoch Loss:\",epoch_loss/N, \"epoch Acc:\",epoch_acc/N, \"testloss:\",test_loss, \"test_acc\",test_acc)\n",
    "        trainAcc.append(epoch_acc/N)\n",
    "        testAcc.append(test_acc)\n",
    "    return trainAcc,testAcc\n",
    "\n",
    "lr=1e-3\n",
    "#criterion = nn.BCELoss()\n",
    "criterion = nn.BCEWithLogitsLoss()\n",
    "optimizer = torch.optim.Adam(model1.parameters(), lr=lr)\n",
    "model1.eval()\n",
    "N=len(train_data)\n",
    "trainAcc,testAcc=fitModel(30,model1,criterion,optimizer,train_loader,test_loader,N)"
   ]
  },
  {
   "cell_type": "code",
   "execution_count": 15,
   "metadata": {},
   "outputs": [
    {
     "name": "stdout",
     "output_type": "stream",
     "text": [
      "[0.75396, 0.8756, 0.92752, 0.9632, 0.979, 0.99004, 0.99356, 0.99184, 0.996, 0.99852, 0.99404, 0.99492, 0.99572, 0.99572, 0.99784, 0.9984, 0.99692, 0.99824, 0.99756, 0.99668, 0.99816, 0.99892, 0.99876, 0.99804, 0.99864, 0.99972, 0.99876, 0.99808, 0.99884, 0.99932] [0.81264, 0.85132, 0.84976, 0.85856, 0.85088, 0.85536, 0.8558, 0.85364, 0.8498, 0.85528, 0.85004, 0.84872, 0.84992, 0.84388, 0.85508, 0.85404, 0.852, 0.85244, 0.84512, 0.8498, 0.85156, 0.84944, 0.84576, 0.84956, 0.8508, 0.84612, 0.84636, 0.847, 0.85012, 0.83796]\n"
     ]
    }
   ],
   "source": [
    "print(trainAcc,testAcc)"
   ]
  },
  {
   "cell_type": "code",
   "execution_count": 17,
   "metadata": {},
   "outputs": [
    {
     "data": {
      "text/plain": [
       "Text(0.5, 1.0, 'GRU Test Acc Report')"
      ]
     },
     "execution_count": 17,
     "metadata": {},
     "output_type": "execute_result"
    },
    {
     "data": {
      "image/png": "[encoded data removed]",
      "text/plain": [
       "<Figure size 432x288 with 1 Axes>"
      ]
     },
     "metadata": {
      "needs_background": "light"
     },
     "output_type": "display_data"
    }
   ],
   "source": [
    "plt.plot(testAcc,'-')\n",
    "plt.ylim([0,1])\n",
    "plt.xlabel(\"Epoch\")\n",
    "plt.ylabel(\"Accuracy\")\n",
    "plt.title(\"GRU Test Acc Report\")"
   ]
  }
 ],
 "metadata": {
  "kernelspec": {
   "display_name": "Python 3",
   "language": "python",
   "name": "python3"
  },
  "language_info": {
   "codemirror_mode": {
    "name": "ipython",
    "version": 3
   },
   "file_extension": ".py",
   "mimetype": "text/x-python",
   "name": "python",
   "nbconvert_exporter": "python",
   "pygments_lexer": "ipython3",
   "version": "3.8.5"
  }
 },
 "nbformat": 4,
 "nbformat_minor": 4
}
