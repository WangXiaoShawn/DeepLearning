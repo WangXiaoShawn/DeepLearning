{
 "cells": [
  {
   "cell_type": "code",
   "execution_count": 87,
   "metadata": {},
   "outputs": [
    {
     "data": {
      "text/plain": [
       "array([[ 1.000000e+00,  4.994357e+01,  2.147114e+01, ..., -1.822230e+00,\n",
       "        -2.746348e+01,  2.263270e+00],\n",
       "       [ 1.000000e+00,  4.873215e+01,  1.842930e+01, ...,  1.204941e+01,\n",
       "         5.843453e+01,  2.692061e+01],\n",
       "       [ 1.000000e+00,  5.095714e+01,  3.185602e+01, ..., -5.859000e-02,\n",
       "         3.967068e+01, -6.634500e-01],\n",
       "       ...,\n",
       "       [ 1.000000e+00,  4.638102e+01, -1.605772e+01, ...,  1.483900e-01,\n",
       "        -9.439950e+01, -1.408372e+01],\n",
       "       [ 1.000000e+00,  4.262982e+01,  1.163038e+01, ...,  2.850070e+00,\n",
       "         1.068887e+02, -6.253090e+00],\n",
       "       [ 1.000000e+00,  4.437612e+01,  1.625310e+00, ..., -4.399480e+00,\n",
       "         2.242941e+01, -4.108930e+00]])"
      ]
     },
     "execution_count": 87,
     "metadata": {},
     "output_type": "execute_result"
    }
   ],
   "source": [
    "import sys\n",
    "import numpy as np\n",
    "import random as rm\n",
    "import matplotlib.pyplot as plt\n",
    "\n",
    "\n",
    "#part1 load and explore the data\n",
    "\n",
    "def LoadMusicData(fname,addBias):\n",
    "    data=np.loadtxt(fname,delimiter=',')\n",
    "    \n",
    "    traindata=data[0:463713,:]\n",
    "    testdata=data[463173:,:]\n",
    "    trainYears=traindata[:,0]\n",
    "    testYears=testdata[:,0]\n",
    "    \n",
    "    trainBias=addBias*np.ones((463713,1))\n",
    "    trainVariables= traindata[:,1:]\n",
    "    trainFeat=np.hstack((trainBias,trainVariables))\n",
    "    \n",
    "    testBias=addBias*np.ones((52172,1))\n",
    "    testVariables= testdata[:,1:]\n",
    "    testFeat=np.hstack((testBias,testVariables))\n",
    "    return trainYears,trainFeat,testYears,testFeat\n",
    "fname=\"C:/RIT/IMG/Music/YearPredictionMSD.txt\"\n",
    "#fname=\"/Users/dl/Documents/RIT related/YearPredictionMSD.txt\"\n",
    "trainYears,trainFeat,testYears,testFeat=LoadMusicData(fname,1)  \n",
    "testYears.shape  #(52172, )\n",
    "trainFeat"
   ]
  },
  {
   "cell_type": "code",
   "execution_count": 88,
   "metadata": {},
   "outputs": [
    {
     "name": "stdout",
     "output_type": "stream",
     "text": [
      "[-14861.69535, 65735.77953] [1922.0, 2011.0]\n"
     ]
    },
    {
     "data": {
      "text/plain": [
       "(array([1922., 1924., 1925., 1926., 1927., 1928., 1929., 1930., 1931.,\n",
       "        1932., 1933., 1934., 1935., 1936., 1937., 1938., 1939., 1940.,\n",
       "        1941., 1942., 1943., 1944., 1945., 1946., 1947., 1948., 1949.,\n",
       "        1950., 1951., 1952., 1953., 1954., 1955., 1956., 1957., 1958.,\n",
       "        1959., 1960., 1961., 1962., 1963., 1964., 1965., 1966., 1967.,\n",
       "        1968., 1969., 1970., 1971., 1972., 1973., 1974., 1975., 1976.,\n",
       "        1977., 1978., 1979., 1980., 1981., 1982., 1983., 1984., 1985.,\n",
       "        1986., 1987., 1988., 1989., 1990., 1991., 1992., 1993., 1994.,\n",
       "        1995., 1996., 1997., 1998., 1999., 2000., 2001., 2002., 2003.,\n",
       "        2004., 2005., 2006., 2007., 2008., 2009., 2010., 2011.]),\n",
       " array([    6,     5,     7,    19,    40,    48,    79,    38,    31,\n",
       "           11,     6,    28,    24,    22,    25,    19,    35,    14,\n",
       "           31,    21,    13,    14,    27,    29,    55,    38,    53,\n",
       "           58,    62,    65,   121,   108,   253,   535,   559,   522,\n",
       "          544,   398,   521,   581,   867,   850,   996,  1202,  1517,\n",
       "         1655,  1986,  2124,  1866,  2078,  2325,  1983,  2297,  1957,\n",
       "         2258,  2597,  2864,  2794,  2788,  3284,  3083,  3053,  3211,\n",
       "         3747,  4608,  5101,  5944,  6606,  7751,  8615,  9562, 10882,\n",
       "        11806, 12669, 13639, 14245, 16358, 17354, 19415, 21291, 24574,\n",
       "        26680, 31454, 33823, 35374, 31244, 27907,  8363,     1],\n",
       "       dtype=int64))"
      ]
     },
     "execution_count": 88,
     "metadata": {},
     "output_type": "execute_result"
    }
   ],
   "source": [
    "# Part I\n",
    "#observe data   (463713, 91)\n",
    "RangeF=[np.min(trainFeat),np.max(trainFeat)]\n",
    "RangeY=[np.min(trainYears),np.max(trainYears)]\n",
    "print(RangeF,RangeY)#  [65735.77953, -14861.69535]\n",
    "#plt.hist(trainYears,50,facecolor='blue', alpha=0.5)   \n",
    "#plt.hist(testYears,50,facecolor='red', alpha=0.5)# \n",
    "#plt.hist([trainYears.ravel(), testYears.ravel()],50,alpha=0.8, label=['trainYears', 'testYears'])\n",
    "#plt.legend(loc='upper right')\n",
    "#plt.show()\n",
    "np.unique(trainYears, return_counts=True) # 2007 is the most"
   ]
  },
  {
   "cell_type": "code",
   "execution_count": 89,
   "metadata": {},
   "outputs": [
    {
     "name": "stdout",
     "output_type": "stream",
     "text": [
      "189.982960208541\n"
     ]
    }
   ],
   "source": [
    "def MusicMSE(pred,gt):\n",
    "    N=gt.shape[0]      #get total size\n",
    "    gt=gt.reshape(N,1)\n",
    "    pred=np.round(pred)\n",
    "    gt=np.array(gt)\n",
    "    MSE=np.sum((pred-gt)**2)/N\n",
    "    return MSE\n",
    "\n",
    "#A=round(np.mean(testYears))   # 1999\n",
    "mse_2007=MusicMSE(2007,testYears) #array([189.98296021])\n",
    "mse_1998=MusicMSE(1998,testYears)  #array([117.98882542])\n",
    "print(mse_2007)\n"
   ]
  },
  {
   "cell_type": "code",
   "execution_count": 90,
   "metadata": {},
   "outputs": [
    {
     "name": "stdout",
     "output_type": "stream",
     "text": [
      "(52172, 92)\n",
      "(463713, 92)\n"
     ]
    },
    {
     "data": {
      "text/plain": [
       "(463713, 92)"
      ]
     },
     "execution_count": 90,
     "metadata": {},
     "output_type": "execute_result"
    }
   ],
   "source": [
    "# get data 100 examples\n",
    "#traindata=np.hstack((trainYears[0:100].reshape(100,1),trainFeat[0:100,:]))\n",
    "#testdata=np.hstack((testYears[0:100].reshape(100,1),testFeat[0:100,:]))\n",
    "#traindata.shape #(100, 92)\n",
    "\n",
    "# get data all\n",
    "traindata=np.hstack((trainYears.reshape(trainYears.shape[0],1),trainFeat))\n",
    "testdata=np.hstack((testYears.reshape(testYears.shape[0],1),testFeat))\n",
    "print(testdata.shape)  #(52172, 92)\n",
    "print(traindata.shape)  #(463713, 92)\n",
    "\n",
    "traindata.shape  #(463713,)"
   ]
  },
  {
   "cell_type": "code",
   "execution_count": null,
   "metadata": {},
   "outputs": [],
   "source": []
  },
  {
   "cell_type": "code",
   "execution_count": 91,
   "metadata": {},
   "outputs": [
    {
     "name": "stdout",
     "output_type": "stream",
     "text": [
      "1998.0 1922.0\n"
     ]
    },
    {
     "data": {
      "text/plain": [
       "(463713, 92)"
      ]
     },
     "execution_count": 91,
     "metadata": {},
     "output_type": "execute_result"
    }
   ],
   "source": [
    "def normdata (data):         # z-score\n",
    "    m=np.mean(data,axis=0)   \n",
    "    #k=np.max(data,axis=0)-np.min(data,axis=0)\n",
    "    var=np.std(data,axis=0)\n",
    "    Ndata=(data-m)/var\n",
    "    return Ndata\n",
    "\n",
    "def data_processing(data):\n",
    "    #normalize data and add bias, #data formate first col is label    \n",
    "    NormD=normdata (data[:,2:data.shape[1]])   \n",
    "    bias1=np.ones((data.shape[0],1)) \n",
    "    B_data=np.c_[bias1,NormD]\n",
    "    Label=data[:,0]\n",
    "    return B_data, Label\n",
    "\n",
    "NormTr,TrainL=data_processing(traindata)\n",
    "NormTs,TestL=data_processing(testdata)\n",
    "offset1=np.round(np.mean(TrainL))  #1998\n",
    "offset2=np.min(TrainL)    #1922\n",
    "print(offset1, offset2)\n",
    "traindata.shape\n"
   ]
  },
  {
   "cell_type": "code",
   "execution_count": 92,
   "metadata": {},
   "outputs": [
    {
     "name": "stdout",
     "output_type": "stream",
     "text": [
      "0 Epoches-- Loss: 104.15270257918732\n",
      "1 Epoches-- Loss: 97.70130922195361\n",
      "2 Epoches-- Loss: 94.93816919518638\n",
      "3 Epoches-- Loss: 93.52851505336145\n",
      "4 Epoches-- Loss: 92.70527318880693\n",
      "5 Epoches-- Loss: 92.24575844572259\n",
      "6 Epoches-- Loss: 91.9666311252528\n",
      "7 Epoches-- Loss: 91.78208600322236\n",
      "8 Epoches-- Loss: 91.65427423899125\n",
      "9 Epoches-- Loss: 91.56599985085417\n",
      "10 Epoches-- Loss: 91.52284171849567\n",
      "11 Epoches-- Loss: 91.48832254113691\n",
      "12 Epoches-- Loss: 91.48018605734397\n",
      "13 Epoches-- Loss: 91.4643098680521\n",
      "14 Epoches-- Loss: 91.4564666625474\n",
      "15 Epoches-- Loss: 91.45557603109603\n",
      "16 Epoches-- Loss: 91.4488067623556\n",
      "17 Epoches-- Loss: 91.441373288534\n",
      "18 Epoches-- Loss: 91.43986158031703\n",
      "19 Epoches-- Loss: 91.43708831539867\n",
      "20 Epoches-- Loss: 91.43706459553025\n",
      "21 Epoches-- Loss: 91.4326265069035\n",
      "22 Epoches-- Loss: 91.4312528134418\n",
      "23 Epoches-- Loss: 91.43211972979874\n",
      "24 Epoches-- Loss: 91.43350852051236\n",
      "25 Epoches-- Loss: 91.43296076843352\n",
      "26 Epoches-- Loss: 91.43301468150568\n",
      "27 Epoches-- Loss: 91.43210463618367\n",
      "28 Epoches-- Loss: 91.43069859434513\n",
      "29 Epoches-- Loss: 91.43003439061891\n",
      "30 Epoches-- Loss: 91.42972169737496\n",
      "31 Epoches-- Loss: 91.42950389037381\n",
      "32 Epoches-- Loss: 91.42971307159068\n",
      "33 Epoches-- Loss: 91.43026513728627\n",
      "34 Epoches-- Loss: 91.42991147032376\n",
      "35 Epoches-- Loss: 91.42983167964644\n",
      "36 Epoches-- Loss: 91.42947585615302\n",
      "37 Epoches-- Loss: 91.42931627472272\n",
      "38 Epoches-- Loss: 91.42949095175987\n",
      "39 Epoches-- Loss: 91.42939822201188\n",
      "40 Epoches-- Loss: 91.42938959600474\n",
      "41 Epoches-- Loss: 91.42938743951282\n",
      "42 Epoches-- Loss: 91.42939175253679\n",
      "43 Epoches-- Loss: 91.42946723026597\n",
      "44 Epoches-- Loss: 91.4294241001475\n",
      "45 Epoches-- Loss: 91.42966347235125\n",
      "46 Epoches-- Loss: 91.4296483768119\n",
      "47 Epoches-- Loss: 91.4295901511459\n",
      "48 Epoches-- Loss: 91.42963328127466\n",
      "49 Epoches-- Loss: 91.42965915935251\n"
     ]
    },
    {
     "data": {
      "text/plain": [
       "(91, 1)"
      ]
     },
     "execution_count": 92,
     "metadata": {},
     "output_type": "execute_result"
    }
   ],
   "source": [
    "#part2\n",
    "# compute loss          \n",
    "def Compute_Ridgeloss (Y,X,W,alpha,mtum,grad_):\n",
    "    linear=np.round(np.dot(X,W))  \n",
    "    Y=Y.reshape(len(Y),1)\n",
    "    Reg=alpha*(np.linalg.norm(W)**2)   # L2 norm\n",
    "    Loss=np.sum((linear-Y)**2)+Reg   \n",
    "    grad=mtum*grad_[-1]+2*np.dot(X.T,(linear-Y))+ 2*alpha*W   #    \n",
    "    return Loss,grad\n",
    "\n",
    "\n",
    "\n",
    "#def model(tranindata, Epochs, Mini, alpha, rate,mtum):\n",
    "def Model1(tranindata, Epochs, Mini, alpha, rate,mtum):\n",
    "    N=traindata.shape[0]       # sample volumes\n",
    "    BSize=N//Mini \n",
    "    grad_=[0]\n",
    "    Xcol=traindata.shape[1]-1  #1st col is y\n",
    "    Ycol=1                     #vector\n",
    "    W=np.random.uniform(low=-1, high=1, size=Xcol*Ycol).reshape(Xcol,Ycol)  # initialize W (X_col dim+1, Y_col dim)\n",
    "    loss=[]\n",
    "    \n",
    "    # train model \n",
    "    for m in range(Epochs):\n",
    "   \n",
    "        np.random.shuffle(traindata)  #shuffle \n",
    "        #normalize data and add bias\n",
    "        NormTr,TrainL=data_processing(traindata)\n",
    "        TrainL=TrainL-offset1\n",
    "        \n",
    "        # update W in train minibatch\n",
    "        for i in range(BSize):\n",
    "            X=NormTr[Mini*i:Mini*(i+1),:]\n",
    "            Y=TrainL[Mini*i:Mini*(i+1)]\n",
    "            #Loss,grad=Ridgeloss(Y,X,W,alpha)\n",
    "            Loss,grad=Compute_Ridgeloss(Y,X,W,alpha,mtum,grad_)\n",
    "            W=W-rate*grad                   \n",
    "            grad_=np.append(grad_,grad)        \n",
    "\n",
    "        #compute Loss \n",
    "       \n",
    "             \n",
    "        TLoss,grad1=Compute_Ridgeloss(TrainL,NormTr,W,alpha,mtum,grad_)\n",
    "        loss=np.append(loss,TLoss/N) \n",
    "        \n",
    "        \n",
    "         #early stopping \n",
    "        if m >2 and  loss[-2]-loss[-1]<0.1:\n",
    "            rate=0.8*rate\n",
    "            \n",
    "            if rate< 1e-10:\n",
    "                break\n",
    "        print(m,'Epoches--','Loss:',TLoss/N)        \n",
    "        \n",
    "    return W, loss\n",
    "#model(tranindata, Epochs, Mini, alpha, rate,mtum):\n",
    "WL2,Ridgeloss=Model1(traindata, 50, 300, 0.01, 1e-6,0.1)\n",
    "WL2.shape"
   ]
  },
  {
   "cell_type": "code",
   "execution_count": 93,
   "metadata": {},
   "outputs": [
    {
     "name": "stdout",
     "output_type": "stream",
     "text": [
      "[1997. 1999. 1997. ... 1999. 1999. 1993.]\n",
      "[1997. 2007. 1997. ... 1981. 2004. 1979.]\n"
     ]
    },
    {
     "data": {
      "text/plain": [
       "array([104.15270258,  97.70130922,  94.9381692 ,  93.52851505,\n",
       "        92.70527319,  92.24575845,  91.96663113,  91.782086  ,\n",
       "        91.65427424,  91.56599985,  91.52284172,  91.48832254,\n",
       "        91.48018606,  91.46430987,  91.45646666,  91.45557603,\n",
       "        91.44880676,  91.44137329,  91.43986158,  91.43708832,\n",
       "        91.4370646 ,  91.43262651,  91.43125281,  91.43211973,\n",
       "        91.43350852,  91.43296077,  91.43301468,  91.43210464,\n",
       "        91.43069859,  91.43003439,  91.4297217 ,  91.42950389,\n",
       "        91.42971307,  91.43026514,  91.42991147,  91.42983168,\n",
       "        91.42947586,  91.42931627,  91.42949095,  91.42939822,\n",
       "        91.4293896 ,  91.42938744,  91.42939175,  91.42946723,\n",
       "        91.4294241 ,  91.42966347,  91.42964838,  91.42959015,\n",
       "        91.42963328,  91.42965916])"
      ]
     },
     "execution_count": 93,
     "metadata": {},
     "output_type": "execute_result"
    }
   ],
   "source": [
    "Ypred_tr=np.round(np.dot(NormTr,WL2)+ offset1)\n",
    "print(Ypred_tr.ravel())\n",
    "print(TrainL.ravel())\n",
    "Ridgeloss"
   ]
  },
  {
   "cell_type": "code",
   "execution_count": 94,
   "metadata": {
    "scrolled": true
   },
   "outputs": [
    {
     "name": "stdout",
     "output_type": "stream",
     "text": [
      "146.95509722608597 90.638675918117\n"
     ]
    }
   ],
   "source": [
    "def compute_mse(Xtr,Ytr,Xts,Yts,W,offset):\n",
    "    Ypred_tr=np.round(np.dot(Xtr,W)+offset)\n",
    "    Ypred_ts=np.round(np.dot(Xts,W)+offset)\n",
    "    mse_tr=MusicMSE(Ypred_tr,Ytr)\n",
    "    mse_ts=MusicMSE(Ypred_ts,Yts)\n",
    "    return mse_tr,mse_ts\n",
    "\n",
    "Rg_mse_tr,Rg_mse_ts=compute_mse(NormTr,TrainL,NormTs,TestL, WL2, offset1)\n",
    "print(Rg_mse_tr,Rg_mse_ts)"
   ]
  },
  {
   "cell_type": "code",
   "execution_count": 120,
   "metadata": {},
   "outputs": [
    {
     "data": {
      "image/png": "[encoded data removed]",
      "text/plain": [
       "<Figure size 432x288 with 1 Axes>"
      ]
     },
     "metadata": {
      "needs_background": "light"
     },
     "output_type": "display_data"
    }
   ],
   "source": [
    "#plot loss \n",
    "def plot_loss(loss):    \n",
    "    A=np.arange(0,loss.shape[0],1)\n",
    "    plt.plot(A,loss,'-r')    \n",
    "    #plt.legend('train', loc='upper right') \n",
    "    plt.title('Ridge Regression  Loss')\n",
    "    plt.xlabel('Epochs')\n",
    "    plt.ylabel('Loss Value')\n",
    "    plt.show()\n",
    "plot_loss(Ridgeloss)"
   ]
  },
  {
   "cell_type": "code",
   "execution_count": 96,
   "metadata": {},
   "outputs": [
    {
     "name": "stdout",
     "output_type": "stream",
     "text": [
      "91.34592086053227 90.48980295944185\n"
     ]
    }
   ],
   "source": [
    "#trainYears,trainFeat,testYears,testFeat=LoadMusicData(fname,1)  \n",
    "##pseudoinverse  #X*W=Y   \n",
    "\n",
    "X_inv=np.linalg.pinv(trainFeat)  #(91, 463713)\n",
    "WW=np.dot(X_inv,trainYears.reshape(len(trainYears),1))\n",
    "WW=WW.reshape(len(WW),1)\n",
    "\n",
    "Y_pred_train1=np.round(np.dot(trainFeat,WW))  #(463713, 1)\n",
    "Y_pred_test1=np.round(np.dot(testFeat,WW))  #(52172, 1)\n",
    "mse_rg_tr1=MusicMSE(Y_pred_train1,trainYears)\n",
    "mse_rg_ts1=MusicMSE(Y_pred_test1,testYears)\n",
    "print(mse_rg_tr1,mse_rg_ts1)  #[91.34592086] [90.48980296]"
   ]
  },
  {
   "cell_type": "code",
   "execution_count": 143,
   "metadata": {},
   "outputs": [
    {
     "name": "stdout",
     "output_type": "stream",
     "text": [
      "0 Epoches-- Loss: 103.46956481632307\n",
      "1 Epoches-- Loss: 97.1833101590908\n",
      "2 Epoches-- Loss: 94.8054234226685\n",
      "3 Epoches-- Loss: 93.58907195146188\n",
      "4 Epoches-- Loss: 92.88461037308318\n",
      "5 Epoches-- Loss: 92.44815292424231\n",
      "6 Epoches-- Loss: 92.1461040386008\n",
      "7 Epoches-- Loss: 91.95581393206956\n",
      "8 Epoches-- Loss: 91.82465091422242\n",
      "9 Epoches-- Loss: 91.71315307358913\n",
      "10 Epoches-- Loss: 91.62517840344483\n",
      "11 Epoches-- Loss: 91.58898576056038\n",
      "12 Epoches-- Loss: 91.55452263493605\n",
      "13 Epoches-- Loss: 91.53699455278243\n",
      "14 Epoches-- Loss: 91.52831892970488\n",
      "15 Epoches-- Loss: 91.5167988745269\n",
      "16 Epoches-- Loss: 91.50729083936726\n",
      "17 Epoches-- Loss: 91.5050265086221\n",
      "18 Epoches-- Loss: 91.49797689019857\n",
      "19 Epoches-- Loss: 91.49783024827086\n",
      "20 Epoches-- Loss: 91.4927948065061\n",
      "21 Epoches-- Loss: 91.49365093982927\n",
      "22 Epoches-- Loss: 91.49133053931533\n",
      "23 Epoches-- Loss: 91.48731512481683\n",
      "24 Epoches-- Loss: 91.48564383260285\n",
      "25 Epoches-- Loss: 91.48434992895854\n",
      "26 Epoches-- Loss: 91.48185269478232\n",
      "27 Epoches-- Loss: 91.48098577933881\n",
      "28 Epoches-- Loss: 91.48127906426139\n",
      "29 Epoches-- Loss: 91.48073993774105\n",
      "(91, 1)\n"
     ]
    }
   ],
   "source": [
    "#part3   L1 Weight decay\n",
    "\n",
    "\n",
    "# compute loss and deltaW         \n",
    "def Compute_Lassoloss (Y,X,W,alpha,mtum,grad_):\n",
    "    linear=np.round(np.dot(X,W))  \n",
    "    Y=Y.reshape(len(Y),1)\n",
    "    Reg=alpha*np.linalg.norm(W,ord=1)  # L1 norm\n",
    "    Loss=np.sum((linear-Y)**2)+Reg   \n",
    "    grad=mtum*grad_[-1]+2*np.dot(X.T,(linear-Y))+ 2*alpha*W   #    \n",
    "    return Loss,grad\n",
    "\n",
    "#def model(tranindata, Epochs, Mini, alpha, rate):\n",
    "def Model2(tranindata, Epochs, Mini, alpha, rate, mtum):\n",
    "    N=traindata.shape[0]  # sample volumes\n",
    "    BSize=N//Mini \n",
    "    grad_=[0]\n",
    "    Xcol=traindata.shape[1]-1  #col\n",
    "    Ycol=1\n",
    "    W=np.random.uniform(low=-1, high=1, size=Xcol*Ycol).reshape(Xcol,Ycol)  # initialize W (X_col dim+1, Y_col dim)\n",
    "    Sta_trAcc=[]\n",
    "    loss=[]\n",
    "    \n",
    "    # train model \n",
    "    for m in range(Epochs):\n",
    "   \n",
    "        np.random.shuffle(traindata)  #shuffle \n",
    "         #normalize data and add bias\n",
    "        NormTr,TrainL=data_processing(traindata)\n",
    "        TrainL=TrainL-offset1\n",
    "        # update W in train minibatch\n",
    "        for i in range(BSize):\n",
    "            X=NormTr[Mini*i:Mini*(i+1),:]\n",
    "            Y=TrainL[Mini*i:Mini*(i+1)]\n",
    "            #Loss,grad=Lassoloss(Y,X,W,alpha)Compute_Lassoloss (Y,X,W,alpha,mtum,grad_\n",
    "            Loss,grad=Compute_Lassoloss(Y,X,W,alpha,mtum,grad_)\n",
    "            W=W-rate*grad                   \n",
    "            grad_=np.append(grad_,grad)        \n",
    "\n",
    "        #compute Loss of train sets\n",
    "        TLoss,grad1=Compute_Lassoloss(TrainL,NormTr,W,alpha,mtum,grad_)\n",
    "        loss=np.append(loss,TLoss/N) \n",
    "        \n",
    "        if m >2 and  loss[-2]-loss[-1]<0.1:\n",
    "            rate=0.8*rate\n",
    "            \n",
    "            if rate< 1e-8:\n",
    "                break\n",
    "        print(m,'Epoches--','Loss:',TLoss/N)        \n",
    "        \n",
    "    return W, loss\n",
    "\n",
    "#model(tranindata, Epochs, Mini, alpha, rate, mtum):\n",
    "WL1,Lassoloss=Model2(traindata, 100, 300, 0.01, 1e-6, 0.01)\n",
    "print(WL1.shape)"
   ]
  },
  {
   "cell_type": "code",
   "execution_count": 145,
   "metadata": {},
   "outputs": [
    {
     "data": {
      "image/png": "[encoded data removed]",
      "text/plain": [
       "<Figure size 432x288 with 1 Axes>"
      ]
     },
     "metadata": {
      "needs_background": "light"
     },
     "output_type": "display_data"
    },
    {
     "name": "stdout",
     "output_type": "stream",
     "text": [
      "147.02460142372544 90.65295560837231\n"
     ]
    }
   ],
   "source": [
    "#plot Lasso loss and Mse\n",
    "def plot_loss_1(loss):    \n",
    "    A=np.arange(0,loss.shape[0],1)\n",
    "    plt.plot(A,loss,'-r')    \n",
    "    #plt.legend('train', loc='upper right') \n",
    "    plt.title('Lasso Regression Loss')\n",
    "    plt.xlabel('Epochs')\n",
    "    plt.ylabel('Loss Value')\n",
    "    plt.show()\n",
    "    \n",
    "plot_loss_1(Lassoloss)\n",
    "La_mse_tr,La_mse_ts=compute_mse(NormTr,TrainL,NormTs,TestL, WL1, offset1)\n",
    "print(La_mse_tr,La_mse_ts)"
   ]
  },
  {
   "cell_type": "code",
   "execution_count": 101,
   "metadata": {},
   "outputs": [
    {
     "data": {
      "image/png": "[encoded data removed]",
      "text/plain": [
       "<Figure size 432x288 with 1 Axes>"
      ]
     },
     "metadata": {
      "needs_background": "light"
     },
     "output_type": "display_data"
    }
   ],
   "source": [
    "#compare WL2, WL1 and discuss\n",
    "plt.hist([WL2.ravel(), WL1.ravel()],50,alpha=0.5, label=['L2 W', 'L1 W'])\n",
    "plt.legend(loc='upper right')\n",
    "plt.show()\n",
    " "
   ]
  },
  {
   "cell_type": "code",
   "execution_count": 102,
   "metadata": {},
   "outputs": [
    {
     "data": {
      "text/plain": [
       "(463713, 1)"
      ]
     },
     "execution_count": 102,
     "metadata": {},
     "output_type": "execute_result"
    }
   ],
   "source": [
    "MaxV=np.max(trainFeat[:,1:],axis=0)\n",
    "#Norm=traindata[:,1:]-MaxV\n",
    "#Norm[:,2:]\n",
    "\n",
    "trainYears=trainYears.reshape(len(trainYears),1)\n",
    "trainYears.shape"
   ]
  },
  {
   "cell_type": "code",
   "execution_count": 103,
   "metadata": {},
   "outputs": [
    {
     "data": {
      "text/plain": [
       "(463713, 92)"
      ]
     },
     "execution_count": 103,
     "metadata": {},
     "output_type": "execute_result"
    }
   ],
   "source": [
    "traindata.shape\n"
   ]
  },
  {
   "cell_type": "code",
   "execution_count": null,
   "metadata": {},
   "outputs": [],
   "source": [
    "# part4  Poisson Regression\n",
    "def normdata_p (data):         # \n",
    "    m=np.max(data,axis=0)   \n",
    "    k=np.max(data,axis=0)-np.min(data,axis=0)\n",
    "    #var=np.std(data,axis=0)\n",
    "    Ndata=(data-m)/k\n",
    "    return Ndata\n",
    "\n",
    "def data_processing_p(data):  \n",
    "    #normalize data and add bias, #data formate first col is label    \n",
    "    NormD=normdata_p(data[:,2:data.shape[1]])   \n",
    "    bias1=np.ones((data.shape[0],1)) \n",
    "    B_data=np.c_[bias1,NormD]\n",
    "    Label=data[:,0]\n",
    "    return B_data, Label\n",
    "\n",
    "def Compute_Poissonloss(Y,X,W,mtum,grad_):\n",
    "    Y=Y.reshape(len(Y),1)    \n",
    "    linear=np.exp(np.dot(X,W))\n",
    "    Loss=np.sum(linear-Y*np.dot(X,W))\n",
    "    grad=mtum*grad_[-1]+np.dot(X.T,linear)-np.dot(X.T,Y)\n",
    "    return Loss,grad \n",
    "\n",
    "\n",
    "\n",
    "#def model(tranindata, Epochs, Mini, alpha, rate):\n",
    "def Model3(tranindata, Epochs, Mini, rate,mtum):\n",
    "    N=traindata.shape[0]  # sample volumes\n",
    "    BSize=N//Mini \n",
    "    grad_=[0]\n",
    "    Xcol=traindata.shape[1]-1  #col 91\n",
    "    Ycol=1\n",
    "    W=np.random.uniform(low=-1, high=1, size=Xcol*Ycol).reshape(Xcol,Ycol)  # initialize W (X_col dim+1, Y_col dim)\n",
    "    loss=[]\n",
    "    \n",
    "    # train model \n",
    "    for m in range(Epochs):\n",
    "   \n",
    "        np.random.shuffle(traindata)  #shuffle \n",
    "         #normalize data and add bias\n",
    "        NormTr,TrainL=data_processing_p(traindata)\n",
    "        TrainL=TrainL-offset2\n",
    "        #update W in train minibatch\n",
    "        for i in range(BSize):\n",
    "            X=NormTr[Mini*i:Mini*(i+1),:]\n",
    "            Y=TrainL[Mini*i:Mini*(i+1)]\n",
    "            Loss,grad=Compute_Poissonloss (Y,X,W,mtum,grad_)\n",
    "            W=W-rate*grad                   \n",
    "            grad_=np.append(grad_,grad)        \n",
    "\n",
    "        #compute Loss of train sets\n",
    "        TLoss,grad1=Compute_Poissonloss (TrainL,NormTr,W,mtum,grad_)\n",
    "        loss=np.append(loss,TLoss/N) \n",
    "        \n",
    "        if m >2 and  loss[-2]-loss[-1]<1:\n",
    "            rate=0.8*rate\n",
    "            \n",
    "            if rate< 1e-11:\n",
    "                break\n",
    "        print(m,'Epoches--','Loss:',TLoss/N)        \n",
    "        \n",
    "    return W, loss\n",
    "\n",
    "#model(tranindata, Epochs, Mini, rate, mtum):\n",
    "W3,Poissonloss=Model3(traindata, 50, 200, 1e-10, 0.01)\n",
    "\n",
    "W3.shape"
   ]
  },
  {
   "cell_type": "code",
   "execution_count": 135,
   "metadata": {},
   "outputs": [
    {
     "data": {
      "image/png": "[encoded data removed]",
      "text/plain": [
       "<Figure size 432x288 with 1 Axes>"
      ]
     },
     "metadata": {
      "needs_background": "light"
     },
     "output_type": "display_data"
    }
   ],
   "source": [
    "#plot Lasso loss and Mse\n",
    "def plot_loss_2(loss):    \n",
    "    A=np.arange(0,loss.shape[0],1)\n",
    "    plt.plot(A,loss,'-r')    \n",
    "    #plt.legend('train', loc='upper right') \n",
    "    plt.title('Poisson Regression Loss')\n",
    "    plt.xlabel('Epochs')\n",
    "    plt.ylabel('Loss Value')\n",
    "    plt.show()\n",
    "    \n",
    "plot_loss_2(Poissonloss)"
   ]
  },
  {
   "cell_type": "code",
   "execution_count": 136,
   "metadata": {},
   "outputs": [
    {
     "name": "stdout",
     "output_type": "stream",
     "text": [
      "5356.160008453505 5377.991106340566\n"
     ]
    }
   ],
   "source": [
    "\n",
    "\n",
    "def MusicMSE(pred,gt):\n",
    "    N=gt.shape[0]      #get total size\n",
    "    gt=gt.reshape(N,1)\n",
    "    pred=np.round(pred)\n",
    "    gt=np.array(gt)\n",
    "    MSE=np.sum((pred-gt)**2)/N\n",
    "    return MSE\n",
    "\n",
    "#MSE\n",
    "NormTr_P,TrainL_P=data_processing_p(traindata)\n",
    "NormTs_P,TestL_P=data_processing_p(testdata)\n",
    "\n",
    "Ypred1=np.round(np.exp(np.dot(NormTr_P,W3))+offset2)\n",
    "Ypred2=np.round(np.exp(np.dot(NormTs_P,W3))+offset2)\n",
    "P_mse_tr=MusicMSE(Ypred1,TrainL_P)\n",
    "P_mse_ts=MusicMSE(Ypred2,TestL_P)\n",
    "\n",
    "\n",
    "print(Ps_mse_tr,Ps_mse_ts)\n"
   ]
  },
  {
   "cell_type": "code",
   "execution_count": 138,
   "metadata": {},
   "outputs": [
    {
     "name": "stdout",
     "output_type": "stream",
     "text": [
      "0 Epoches-- Loss: 12.060990656248876\n",
      "1 Epoches-- Loss: 11.950094194939155\n",
      "2 Epoches-- Loss: 11.844654541379574\n",
      "3 Epoches-- Loss: 11.743877357423436\n",
      "4 Epoches-- Loss: 11.647126261319496\n",
      "5 Epoches-- Loss: 11.55389962747051\n",
      "6 Epoches-- Loss: 11.463776002021415\n",
      "7 Epoches-- Loss: 11.376432826503404\n",
      "8 Epoches-- Loss: 11.29158628913802\n"
     ]
    },
    {
     "ename": "KeyboardInterrupt",
     "evalue": "",
     "output_type": "error",
     "traceback": [
      "\u001b[1;31m---------------------------------------------------------------------------\u001b[0m",
      "\u001b[1;31mKeyboardInterrupt\u001b[0m                         Traceback (most recent call last)",
      "\u001b[1;32m<ipython-input-138-243e370e1a2c>\u001b[0m in \u001b[0;36m<module>\u001b[1;34m\u001b[0m\n\u001b[0;32m     81\u001b[0m \u001b[1;33m\u001b[0m\u001b[0m\n\u001b[0;32m     82\u001b[0m \u001b[1;31m#train model ---Model4(tranindata, Epochs, Mini, alpha, rate, mtum)\u001b[0m\u001b[1;33m\u001b[0m\u001b[1;33m\u001b[0m\u001b[1;33m\u001b[0m\u001b[0m\n\u001b[1;32m---> 83\u001b[1;33m \u001b[0mW4\u001b[0m\u001b[1;33m,\u001b[0m \u001b[0mSoftmaxLoss\u001b[0m \u001b[1;33m=\u001b[0m\u001b[0mModel4\u001b[0m\u001b[1;33m(\u001b[0m\u001b[0mtraindata\u001b[0m\u001b[1;33m,\u001b[0m \u001b[0mtrainYears\u001b[0m\u001b[1;33m,\u001b[0m \u001b[1;36m20\u001b[0m\u001b[1;33m,\u001b[0m \u001b[1;36m300\u001b[0m\u001b[1;33m,\u001b[0m \u001b[1;36m0.001\u001b[0m\u001b[1;33m,\u001b[0m \u001b[1;36m1e-6\u001b[0m\u001b[1;33m,\u001b[0m \u001b[1;36m0.01\u001b[0m\u001b[1;33m)\u001b[0m\u001b[1;33m\u001b[0m\u001b[1;33m\u001b[0m\u001b[0m\n\u001b[0m\u001b[0;32m     84\u001b[0m \u001b[0mW4\u001b[0m\u001b[1;33m.\u001b[0m\u001b[0mshape\u001b[0m\u001b[1;33m\u001b[0m\u001b[1;33m\u001b[0m\u001b[0m\n",
      "\u001b[1;32m<ipython-input-138-243e370e1a2c>\u001b[0m in \u001b[0;36mModel4\u001b[1;34m(tranindata, Baseline, Epochs, Mini, alpha, rate, mtum)\u001b[0m\n\u001b[0;32m     66\u001b[0m             \u001b[0mLoss\u001b[0m\u001b[1;33m,\u001b[0m\u001b[0mgrad\u001b[0m\u001b[1;33m=\u001b[0m\u001b[0msoftloss\u001b[0m\u001b[1;33m(\u001b[0m\u001b[0mY\u001b[0m\u001b[1;33m,\u001b[0m\u001b[0mX\u001b[0m\u001b[1;33m,\u001b[0m\u001b[0mW\u001b[0m\u001b[1;33m,\u001b[0m\u001b[0mgrad_\u001b[0m\u001b[1;33m,\u001b[0m\u001b[0malpha\u001b[0m\u001b[1;33m,\u001b[0m\u001b[0mmtum\u001b[0m\u001b[1;33m)\u001b[0m\u001b[1;33m\u001b[0m\u001b[1;33m\u001b[0m\u001b[0m\n\u001b[0;32m     67\u001b[0m             \u001b[0mW\u001b[0m\u001b[1;33m=\u001b[0m\u001b[0mW\u001b[0m\u001b[1;33m-\u001b[0m\u001b[0mrate\u001b[0m\u001b[1;33m*\u001b[0m\u001b[0mgrad\u001b[0m\u001b[1;33m\u001b[0m\u001b[1;33m\u001b[0m\u001b[0m\n\u001b[1;32m---> 68\u001b[1;33m             \u001b[0mgrad_\u001b[0m\u001b[1;33m=\u001b[0m\u001b[0mnp\u001b[0m\u001b[1;33m.\u001b[0m\u001b[0mappend\u001b[0m\u001b[1;33m(\u001b[0m\u001b[0mgrad_\u001b[0m\u001b[1;33m,\u001b[0m\u001b[0mgrad\u001b[0m\u001b[1;33m)\u001b[0m\u001b[1;33m\u001b[0m\u001b[1;33m\u001b[0m\u001b[0m\n\u001b[0m\u001b[0;32m     69\u001b[0m \u001b[1;33m\u001b[0m\u001b[0m\n\u001b[0;32m     70\u001b[0m          \u001b[1;31m#Loss and Accuracy compute of train sets\u001b[0m\u001b[1;33m\u001b[0m\u001b[1;33m\u001b[0m\u001b[1;33m\u001b[0m\u001b[0m\n",
      "\u001b[1;32m<__array_function__ internals>\u001b[0m in \u001b[0;36mappend\u001b[1;34m(*args, **kwargs)\u001b[0m\n",
      "\u001b[1;32m~\\anaconda3\\envs\\Pytorch\\lib\\site-packages\\numpy\\lib\\function_base.py\u001b[0m in \u001b[0;36mappend\u001b[1;34m(arr, values, axis)\u001b[0m\n\u001b[0;32m   4669\u001b[0m         \u001b[0mvalues\u001b[0m \u001b[1;33m=\u001b[0m \u001b[0mravel\u001b[0m\u001b[1;33m(\u001b[0m\u001b[0mvalues\u001b[0m\u001b[1;33m)\u001b[0m\u001b[1;33m\u001b[0m\u001b[1;33m\u001b[0m\u001b[0m\n\u001b[0;32m   4670\u001b[0m         \u001b[0maxis\u001b[0m \u001b[1;33m=\u001b[0m \u001b[0marr\u001b[0m\u001b[1;33m.\u001b[0m\u001b[0mndim\u001b[0m\u001b[1;33m-\u001b[0m\u001b[1;36m1\u001b[0m\u001b[1;33m\u001b[0m\u001b[1;33m\u001b[0m\u001b[0m\n\u001b[1;32m-> 4671\u001b[1;33m     \u001b[1;32mreturn\u001b[0m \u001b[0mconcatenate\u001b[0m\u001b[1;33m(\u001b[0m\u001b[1;33m(\u001b[0m\u001b[0marr\u001b[0m\u001b[1;33m,\u001b[0m \u001b[0mvalues\u001b[0m\u001b[1;33m)\u001b[0m\u001b[1;33m,\u001b[0m \u001b[0maxis\u001b[0m\u001b[1;33m=\u001b[0m\u001b[0maxis\u001b[0m\u001b[1;33m)\u001b[0m\u001b[1;33m\u001b[0m\u001b[1;33m\u001b[0m\u001b[0m\n\u001b[0m\u001b[0;32m   4672\u001b[0m \u001b[1;33m\u001b[0m\u001b[0m\n\u001b[0;32m   4673\u001b[0m \u001b[1;33m\u001b[0m\u001b[0m\n",
      "\u001b[1;32m<__array_function__ internals>\u001b[0m in \u001b[0;36mconcatenate\u001b[1;34m(*args, **kwargs)\u001b[0m\n",
      "\u001b[1;31mKeyboardInterrupt\u001b[0m: "
     ]
    }
   ],
   "source": [
    "#part 5 softmax classification  ##softmax\n",
    "\n",
    "def onehot_encode(Label, Baseline):   # all into 89 dims    \n",
    "    BaseDim=np.unique(Baseline)       \n",
    "    L=np.zeros((len(Label),len(BaseDim)))\n",
    "    for i in range(len(Label)):  \n",
    "        for j in range(len(BaseDim)):\n",
    "            if Label[i]==BaseDim[j]:\n",
    "                L[i,j]=1\n",
    "    return L\n",
    "\n",
    "\n",
    "#onehot_encode(traindata[:,0],trainYears).shape\n",
    "\n",
    "def normdata_s (data):         # normalize data to (-1,1)\n",
    "    m=np.mean(data,axis=0)   \n",
    "    #k=np.max(data,axis=0)-np.min(data,axis=0)\n",
    "    var=np.std(data,axis=0)\n",
    "    Ndata=(data-m)/var\n",
    "    return Ndata\n",
    "#Xnorm=normdata (X)   #(10000, 3072)\n",
    "\n",
    "\n",
    "def softmax(x):\n",
    "    exp_x=np.exp(x-np.max(x))\n",
    "    partition=np.sum(exp_x,axis=1,keepdims=True)\n",
    "    return exp_x/partition\n",
    "       \n",
    "def softloss (Y,X,W,grad_,alpha,mtum):\n",
    "    \n",
    "    linear=np.dot(X,W)         \n",
    "    P=softmax(linear)\n",
    "    Reg=0.5*alpha*(np.linalg.norm(W)**2)   # L2 norm\n",
    "    SoftLoss=-np.sum(Y*np.log(P))+Reg    \n",
    "    grad=mtum*grad_[-1]+np.dot(X.T,(P-Y))+alpha*W   #    \n",
    "    return SoftLoss,grad\n",
    "\n",
    "\n",
    "def data_processing_s(data):\n",
    "    #normalize data and add bias, #data formate first col is label    \n",
    "    NormD=normdata_s (data[:,2:data.shape[1]])   \n",
    "    bias1=np.ones((data.shape[0],1)) \n",
    "    B_data=np.c_[bias1,NormD]\n",
    "    Label=onehot_encode(data[:,0],trainYears) \n",
    "    return B_data, Label\n",
    "\n",
    "def Model4(tranindata,Baseline, Epochs, Mini, alpha, rate, mtum):\n",
    "    N=traindata.shape[0]  # \n",
    "    BSize=N//Mini \n",
    "    grad_=[0]\n",
    "    Xcol=traindata.shape[1]-1  #col\n",
    "    Ycol=89\n",
    "    W=np.random.uniform(low=-1, high=1, size=Xcol*Ycol).reshape(Xcol,Ycol) \n",
    "    loss=[]\n",
    "    \n",
    "    # train model \n",
    "    for m in range(Epochs):\n",
    "   \n",
    "        np.random.shuffle(traindata)  #shuffle          \n",
    "        NormTr,TrainL=data_processing_s(traindata)  #normalize data and add bias\n",
    "\n",
    "        # update W in train minibatch  \n",
    "        for i in range(BSize):\n",
    "            X=NormTr[Mini*i:Mini*(i+1),:]\n",
    "            Y=TrainL[Mini*i:Mini*(i+1),:]\n",
    "            Loss,grad=softloss(Y,X,W,grad_,alpha,mtum)\n",
    "            W=W-rate*grad                   \n",
    "            grad_=np.append(grad_,grad)        \n",
    "\n",
    "         #Loss and Accuracy compute of train sets\n",
    "            \n",
    "        TLoss,grad1=softloss(TrainL,NormTr,W,grad_,alpha,mtum)\n",
    "        loss=np.append(loss,TLoss/N)\n",
    "\n",
    "\n",
    "        \n",
    "        print(m,'Epoches--','Loss:',TLoss/N)\n",
    "        \n",
    "    return W, loss\n",
    "\n",
    "\n",
    "#train model ---Model4(tranindata, Epochs, Mini, alpha, rate, mtum)\n",
    "W4, SoftmaxLoss =Model4(traindata, trainYears, 20, 300, 0.001, 1e-6, 0.01)\n",
    "W4.shape"
   ]
  },
  {
   "cell_type": "code",
   "execution_count": null,
   "metadata": {},
   "outputs": [],
   "source": [
    "#plot Lasso loss and Mse\n",
    "plot_loss(SoftmaxLoss)           \n"
   ]
  },
  {
   "cell_type": "code",
   "execution_count": null,
   "metadata": {},
   "outputs": [],
   "source": [
    "#compute softmax MSE\n",
    "\n",
    "NormTr_s,TrainL_s=data_processing_s(traindata)\n",
    "NormTs_s,TestL_s=data_processing_s(testdata)\n",
    "\n",
    "Ptr=softmax(np.dot(NormTr_s,W4)) # 100*89  \n",
    "level=np.unique(trainYears)                      \n",
    "Ypred_tr=level[np.argmax(Ptr, axis=1)].reshape(len(Ptr),1)\n",
    "Pts=softmax(np.dot(NormTs_s,W4))                      \n",
    "Ypred_ts=level[np.argmax(Pts, axis=1) ].reshape(len(Pts),1)\n",
    "\n",
    "Sf_mse_tr=MusicMSE(Ypred_tr,traindata[:,0])\n",
    "Sf_mse_ts=MusicMSE(Ypred_ts,testdata[:,0])\n",
    "\n",
    "#print(Ypred_tr.ravel())\n",
    "#print(TrainL.ravel())\n",
    "print(Sf_mse_tr,Sf_mse_ts)"
   ]
  },
  {
   "cell_type": "code",
   "execution_count": null,
   "metadata": {},
   "outputs": [],
   "source": []
  },
  {
   "cell_type": "code",
   "execution_count": null,
   "metadata": {},
   "outputs": [],
   "source": []
  }
 ],
 "metadata": {
  "kernelspec": {
   "display_name": "Python 3",
   "language": "python",
   "name": "python3"
  },
  "language_info": {
   "codemirror_mode": {
    "name": "ipython",
    "version": 3
   },
   "file_extension": ".py",
   "mimetype": "text/x-python",
   "name": "python",
   "nbconvert_exporter": "python",
   "pygments_lexer": "ipython3",
   "version": "3.8.5"
  }
 },
 "nbformat": 4,
 "nbformat_minor": 4
}
