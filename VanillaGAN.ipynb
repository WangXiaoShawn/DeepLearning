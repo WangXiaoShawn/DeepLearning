{
 "cells": [
  {
   "cell_type": "code",
   "execution_count": 118,
   "metadata": {},
   "outputs": [],
   "source": [
    "from IPython import display\n",
    "from utils import Logger\n",
    "import torch\n",
    "from torch import nn, optim\n",
    "from torch.autograd.variable import Variable\n",
    "from torchvision import transformsbn, datasets"
   ]
  },
  {
   "cell_type": "code",
   "execution_count": 119,
   "metadata": {},
   "outputs": [
    {
     "data": {
      "text/plain": [
       "600"
      ]
     },
     "execution_count": 119,
     "metadata": {},
     "output_type": "execute_result"
    }
   ],
   "source": [
    "def Fashion_mnist_data():\n",
    "    compose = transforms.Compose(\n",
    "        [transforms.ToTensor(),\n",
    "         transforms.Normalize([0.5], [0.5])]\n",
    "         #transforms.Normalize((.5, .5, .5), (.5, .5, .5))\n",
    "        )\n",
    "    out_dir = './dataset'\n",
    "    return datasets.FashionMNIST(root=out_dir, train=True, transform=compose, download=True)\n",
    "\n",
    "# Load data\n",
    "data = Fashion_mnist_data()\n",
    "# Create loader with data, so that we can iterate over it\n",
    "data_loader = torch.utils.data.DataLoader(data, batch_size=100, shuffle=True)\n",
    "# Num batches\n",
    "num_batches = len(data_loader)  #600*100\n",
    "num_batches"
   ]
  },
  {
   "cell_type": "code",
   "execution_count": 120,
   "metadata": {},
   "outputs": [],
   "source": [
    "# batch=100.  total 600 batch "
   ]
  },
  {
   "cell_type": "code",
   "execution_count": 121,
   "metadata": {},
   "outputs": [],
   "source": [
    "class DiscriminatorNet(torch.nn.Module):\n",
    "    \"\"\"\n",
    "    A three hidden-layer discriminative neural network\n",
    "    \"\"\"\n",
    "    def __init__(self):\n",
    "        super(DiscriminatorNet, self).__init__()\n",
    "        n_features = 784\n",
    "        n_out = 1\n",
    "        \n",
    "        self.hidden0 = nn.Sequential( \n",
    "            nn.Linear(n_features, 1024),\n",
    "            nn.ReLU(),\n",
    "            nn.Dropout(0.3)\n",
    "        )\n",
    "        self.hidden1 = nn.Sequential(\n",
    "            nn.Linear(1024, 512),\n",
    "            #nn.LeakyReLU(0.2),\n",
    "            nn.ReLU(),\n",
    "            nn.Dropout(0.3)\n",
    "        )\n",
    "        self.hidden2 = nn.Sequential(\n",
    "            nn.Linear(512, 256),\n",
    "            #nn.LeakyReLU(0.2),\n",
    "            nn.ReLU(),\n",
    "            nn.Dropout(0.3)\n",
    "        )\n",
    "        self.out = nn.Sequential(\n",
    "            torch.nn.Linear(256, n_out),\n",
    "            torch.nn.Sigmoid()\n",
    "        )\n",
    "        \n",
    "    def forward(self, x):\n",
    "        x = self.hidden0(x)\n",
    "        x = self.hidden1(x)\n",
    "        x = self.hidden2(x)\n",
    "        x = self.out(x)\n",
    "        return x\n",
    "\n",
    "\n",
    "discriminator = DiscriminatorNet()\n",
    "\n"
   ]
  },
  {
   "cell_type": "code",
   "execution_count": 122,
   "metadata": {},
   "outputs": [],
   "source": [
    "class GeneratorNet(torch.nn.Module):\n",
    "    \"\"\"\n",
    "    A three hidden-layer generative neural network\n",
    "    \"\"\"\n",
    "    def __init__(self):\n",
    "        super(GeneratorNet, self).__init__()\n",
    "        n_features = 100\n",
    "        n_out = 784\n",
    "        \n",
    "        self.hidden0 = nn.Sequential(\n",
    "            nn.Linear(n_features, 256),\n",
    "            #nn.LeakyReLU(0.2)\n",
    "            nn.ReLU()\n",
    "        )\n",
    "        self.hidden1 = nn.Sequential(            \n",
    "            nn.Linear(256, 512),\n",
    "            #nn.LeakyReLU(0.2)\n",
    "            nn.ReLU()\n",
    "        )\n",
    "        self.hidden2 = nn.Sequential(\n",
    "            nn.Linear(512, 1024),\n",
    "            #nn.LeakyReLU(0.2)\n",
    "            nn.ReLU()\n",
    "        )\n",
    "        \n",
    "        self.out = nn.Sequential(\n",
    "            nn.Linear(1024, n_out),\n",
    "            nn.Tanh()\n",
    "        )\n",
    "\n",
    "    def forward(self, x):\n",
    "        x = self.hidden0(x)\n",
    "        x = self.hidden1(x)\n",
    "        x = self.hidden2(x)\n",
    "        x = self.out(x)\n",
    "        return x\n",
    "    \n",
    "generator = GeneratorNet()"
   ]
  },
  {
   "cell_type": "code",
   "execution_count": 123,
   "metadata": {},
   "outputs": [],
   "source": [
    "def noise(size):\n",
    "    '''\n",
    "    Generates a 1-d vector of gaussian sampled random values\n",
    "    '''\n",
    "    n = Variable(torch.randn(size, 100))\n",
    "    return n"
   ]
  },
  {
   "cell_type": "code",
   "execution_count": 124,
   "metadata": {},
   "outputs": [],
   "source": [
    "#Variable(torch.randn(2, 100)).shape"
   ]
  },
  {
   "cell_type": "code",
   "execution_count": 125,
   "metadata": {},
   "outputs": [],
   "source": [
    "def images_to_vectors(images):\n",
    "    return images.view(images.size(0), 784)\n",
    "\n",
    "def vectors_to_images(vectors):\n",
    "    return vectors.view(vectors.size(0), 1, 28, 28)"
   ]
  },
  {
   "cell_type": "code",
   "execution_count": 126,
   "metadata": {},
   "outputs": [],
   "source": [
    "discriminator = DiscriminatorNet()\n",
    "generator = GeneratorNet()\n",
    "if torch.cuda.is_available():\n",
    "    discriminator.cuda()\n",
    "    generator.cuda()"
   ]
  },
  {
   "cell_type": "code",
   "execution_count": 127,
   "metadata": {},
   "outputs": [],
   "source": [
    "def ones_target(size):\n",
    "    '''\n",
    "    Tensor containing ones, with shape = size\n",
    "    '''\n",
    "    data = Variable(torch.ones(size, 1))\n",
    "    return data\n",
    "\n",
    "def zeros_target(size):\n",
    "    '''\n",
    "    Tensor containing zeros, with shape = size\n",
    "    '''\n",
    "    data = Variable(torch.zeros(size, 1))\n",
    "    return data"
   ]
  },
  {
   "cell_type": "code",
   "execution_count": 128,
   "metadata": {},
   "outputs": [],
   "source": [
    "d_optimizer = optim.Adam(discriminator.parameters(), lr=0.0002)\n",
    "g_optimizer = optim.Adam(generator.parameters(), lr=0.0002)\n",
    "\n",
    "loss = nn.BCELoss()"
   ]
  },
  {
   "cell_type": "code",
   "execution_count": 129,
   "metadata": {},
   "outputs": [],
   "source": [
    "def train_discriminator(optimizer, real_data, fake_data):\n",
    "    N = real_data.size(0)\n",
    "    # Reset gradients\n",
    "    optimizer.zero_grad()\n",
    "    \n",
    "    # 1.1 Train on Real Data\n",
    "    prediction_real = discriminator(real_data)\n",
    "    error_real = loss(prediction_real, ones_target(N) )\n",
    "    error_real.backward()\n",
    "\n",
    "    # 1.2 Train on Fake Data\n",
    "    prediction_fake = discriminator(fake_data)\n",
    "    error_fake = loss(prediction_fake, zeros_target(N))\n",
    "    error_fake.backward()\n",
    "    \n",
    "    # 1.3 Update weights with gradients\n",
    "    optimizer.step()\n",
    "    \n",
    "    # Return error and predictions for real and fake inputs\n",
    "    return error_real + error_fake, prediction_real, prediction_fake\n",
    "\n"
   ]
  },
  {
   "cell_type": "code",
   "execution_count": 130,
   "metadata": {},
   "outputs": [],
   "source": [
    "def train_generator(optimizer, fake_data):\n",
    "    N = fake_data.size(0)\n",
    "    # Reset gradients\n",
    "    optimizer.zero_grad()\n",
    "    # Sample noise and generate fake data\n",
    "    prediction = discriminator(fake_data)\n",
    "    error = loss(prediction, ones_target(N))\n",
    "    error.backward()\n",
    "    # Update weights with gradients\n",
    "    optimizer.step()\n",
    "    # Return error\n",
    "    return error"
   ]
  },
  {
   "cell_type": "code",
   "execution_count": 131,
   "metadata": {},
   "outputs": [],
   "source": [
    "num_test_samples = 16\n",
    "test_noise = noise(num_test_samples)"
   ]
  },
  {
   "cell_type": "code",
   "execution_count": 132,
   "metadata": {},
   "outputs": [
    {
     "data": {
      "image/png": "[encoded data removed]",
      "text/plain": [
       "<Figure size 1152x1152 with 1 Axes>"
      ]
     },
     "metadata": {},
     "output_type": "display_data"
    },
    {
     "name": "stdout",
     "output_type": "stream",
     "text": [
      "Epoch: [34/35], Batch Num: [500/600]\n",
      "Discriminator Loss: 1.2788, Generator Loss: 1.0100\n",
      "D(x): 0.5675, D(G(z)): 0.4271\n"
     ]
    }
   ],
   "source": [
    "logger = Logger(model_name='VGAN', data_name='MNIST')\n",
    "\n",
    "D_loss=[]\n",
    "G_loss=[]\n",
    "N=60000\n",
    "\n",
    "for epoch in range(num_epochs):\n",
    "    LossD=0\n",
    "    LossG=0\n",
    "    for n_batch, (real_batch,_) in enumerate(data_loader):\n",
    "\n",
    "        # 1. Train Discriminator\n",
    "        real_data = Variable(images_to_vectors(real_batch))\n",
    "        if torch.cuda.is_available(): real_data = real_data.cuda()\n",
    "        # Generate fake data\n",
    "        fake_data = generator(noise(real_data.size(0))).detach()\n",
    "        # Train D\n",
    "        d_error, d_pred_real, d_pred_fake = train_discriminator(d_optimizer,\n",
    "                                                                real_data, fake_data)\n",
    "        LossD+=d_error.item()\n",
    "\n",
    "        # 2. Train Generator\n",
    "        # Generate fake data\n",
    "        fake_data = generator(noise(real_batch.size(0)))\n",
    "        # Train G\n",
    "        g_error = train_generator(g_optimizer, fake_data)       \n",
    "        # Log error\n",
    "        logger.log(d_error, g_error, epoch, n_batch, num_batches)\n",
    "        LossG+=g_error.item()\n",
    "        \n",
    "    \n",
    "        \n",
    "\n",
    "        # Display Progress\n",
    "        if (n_batch) % 100 == 0:\n",
    "            display.clear_output(True)\n",
    "            # Display Images\n",
    "            test_images = vectors_to_images(generator(test_noise)).data.cpu()\n",
    "            logger.log_images(test_images, num_test_samples, epoch, n_batch, num_batches);\n",
    "            # Display status Logs\n",
    "            logger.display_status(\n",
    "                epoch, num_epochs, n_batch, num_batches,\n",
    "                d_error, g_error, d_pred_real, d_pred_fake\n",
    "            )\n",
    "        # Model Checkpoints\n",
    "        logger.save_models(generator, discriminator, epoch)\n",
    "    D_loss.append(LossD/N)\n",
    "    G_loss.append(LossG/N)\n",
    "    print('D:',LossD/N,'G:',LossG/N)\n",
    "print(D_loss,G_loss)  "
   ]
  },
  {
   "cell_type": "code",
   "execution_count": 83,
   "metadata": {},
   "outputs": [],
   "source": [
    "# train the GAN model\n",
    "#for n_batch, (real_batch,_) in enumerate(data_loader):\n",
    "    #batch numbers,  batch data \n",
    "    #real_data = Variable(images_to_vectors(real_batch))\n",
    "    "
   ]
  },
  {
   "cell_type": "code",
   "execution_count": null,
   "metadata": {},
   "outputs": [],
   "source": []
  },
  {
   "cell_type": "code",
   "execution_count": 102,
   "metadata": {},
   "outputs": [
    {
     "name": "stdout",
     "output_type": "stream",
     "text": [
      "D: 0.0017161526673512223 G: 0.05734659224698941\n",
      "D: 0.0016557872719257527 G: 0.06350394744873047\n",
      "D: 0.002033423044051354 G: 0.04876760913133621\n",
      "D: 0.0019526974676797788 G: 0.04599425167242686\n",
      "D: 0.0027749787718057634 G: 0.037481775625546776\n",
      "D: 0.002929991764823596 G: 0.03562990867694219\n",
      "D: 0.0032544410437345505 G: 0.03364826995531718\n",
      "D: 0.003678392308826248 G: 0.03167884795268377\n",
      "D: 0.0043857436388731 G: 0.029403559482097625\n",
      "D: 0.004791414189090331 G: 0.0279348049501578\n",
      "D: 0.0051558507025241855 G: 0.026226664358377456\n",
      "D: 0.0060370911881327625 G: 0.023209656327962874\n",
      "D: 0.006669404415786266 G: 0.02126194803118706\n",
      "D: 0.007272379728655021 G: 0.01945814114809036\n",
      "D: 0.0077420259440938635 G: 0.018266264522075654\n",
      "D: 0.008145463906725247 G: 0.017233244317770003\n",
      "D: 0.008504196747144064 G: 0.016787679487466813\n",
      "D: 0.009206775816281636 G: 0.015209763332207998\n",
      "D: 0.00940272304614385 G: 0.014805974757671356\n",
      "D: 0.009504660018285116 G: 0.014553394132852554\n",
      "D: 0.009798491588234901 G: 0.013893992866079013\n",
      "D: 0.00989856759905815 G: 0.013823783359924952\n",
      "D: 0.009848164131244024 G: 0.014247596955299377\n",
      "D: 0.010096708736817043 G: 0.013209097554286321\n",
      "D: 0.010438492751121521 G: 0.012709093889594078\n",
      "D: 0.0105930040816466 G: 0.012402824465433757\n",
      "D: 0.010605783371130625 G: 0.012382834410667419\n",
      "D: 0.010798641061782837 G: 0.011854430679480235\n",
      "D: 0.010909470971425375 G: 0.011736311766505242\n",
      "D: 0.011013948408762613 G: 0.011514645737409592\n",
      "D: 0.011128614072004954 G: 0.011286060764392217\n",
      "D: 0.011142370829979579 G: 0.01133610754708449\n",
      "D: 0.011225054411093394 G: 0.011027662879228592\n",
      "D: 0.011315617748101553 G: 0.01099158373773098\n",
      "D: 0.01141675856411457 G: 0.010832862889766693\n",
      "D: 0.011533525231480598 G: 0.010489457760254542\n",
      "D: 0.011647299576799075 G: 0.010444871350129446\n",
      "D: 0.011608545052011808 G: 0.010436322145660717\n",
      "D: 0.011649772105614345 G: 0.010244799681504567\n",
      "D: 0.01185405596892039 G: 0.009976514956355095\n",
      "D: 0.011946728533506394 G: 0.00974157451291879\n",
      "D: 0.011898115156094234 G: 0.009982130135099094\n",
      "D: 0.011796080721418063 G: 0.00998149909377098\n",
      "D: 0.011898595273494721 G: 0.009858030038078626\n",
      "D: 0.012055263066291809 G: 0.00962556502521038\n",
      "D: 0.01221378178993861 G: 0.009329659754037857\n",
      "D: 0.012243814080953598 G: 0.009407514627774557\n",
      "D: 0.012149868614474932 G: 0.009596682580312092\n",
      "D: 0.012200876476367315 G: 0.009382126328349113\n",
      "D: 0.012172164225578309 G: 0.009355505365133285\n",
      "[0.0017161526673512223, 0.0016557872719257527, 0.002033423044051354, 0.0019526974676797788, 0.0027749787718057634, 0.002929991764823596, 0.0032544410437345505, 0.003678392308826248, 0.0043857436388731, 0.004791414189090331, 0.0051558507025241855, 0.0060370911881327625, 0.006669404415786266, 0.007272379728655021, 0.0077420259440938635, 0.008145463906725247, 0.008504196747144064, 0.009206775816281636, 0.00940272304614385, 0.009504660018285116, 0.009798491588234901, 0.00989856759905815, 0.009848164131244024, 0.010096708736817043, 0.010438492751121521, 0.0105930040816466, 0.010605783371130625, 0.010798641061782837, 0.010909470971425375, 0.011013948408762613, 0.011128614072004954, 0.011142370829979579, 0.011225054411093394, 0.011315617748101553, 0.01141675856411457, 0.011533525231480598, 0.011647299576799075, 0.011608545052011808, 0.011649772105614345, 0.01185405596892039, 0.011946728533506394, 0.011898115156094234, 0.011796080721418063, 0.011898595273494721, 0.012055263066291809, 0.01221378178993861, 0.012243814080953598, 0.012149868614474932, 0.012200876476367315, 0.012172164225578309] [0.05734659224698941, 0.06350394744873047, 0.04876760913133621, 0.04599425167242686, 0.037481775625546776, 0.03562990867694219, 0.03364826995531718, 0.03167884795268377, 0.029403559482097625, 0.0279348049501578, 0.026226664358377456, 0.023209656327962874, 0.02126194803118706, 0.01945814114809036, 0.018266264522075654, 0.017233244317770003, 0.016787679487466813, 0.015209763332207998, 0.014805974757671356, 0.014553394132852554, 0.013893992866079013, 0.013823783359924952, 0.014247596955299377, 0.013209097554286321, 0.012709093889594078, 0.012402824465433757, 0.012382834410667419, 0.011854430679480235, 0.011736311766505242, 0.011514645737409592, 0.011286060764392217, 0.01133610754708449, 0.011027662879228592, 0.01099158373773098, 0.010832862889766693, 0.010489457760254542, 0.010444871350129446, 0.010436322145660717, 0.010244799681504567, 0.009976514956355095, 0.00974157451291879, 0.009982130135099094, 0.00998149909377098, 0.009858030038078626, 0.00962556502521038, 0.009329659754037857, 0.009407514627774557, 0.009596682580312092, 0.009382126328349113, 0.009355505365133285]\n"
     ]
    }
   ],
   "source": [
    "#logger = Logger(model_name='VGAN', data_name='MNIST')\n",
    "D_loss=[]\n",
    "G_loss=[]\n",
    "N=60000\n",
    "#num_epochs\n",
    "for epoch in range(50):\n",
    "    LossD=0\n",
    "    LossG=0\n",
    "    for n_batch, (real_batch,_) in enumerate(data_loader):\n",
    "\n",
    "        # 1. Train Discriminator\n",
    "        real_data = Variable(images_to_vectors(real_batch))\n",
    "        if torch.cuda.is_available(): real_data = real_data.cuda()\n",
    "        # Generate fake data\n",
    "        fake_data = generator(noise(real_data.size(0))).detach()\n",
    "        # Train D\n",
    "        d_error, d_pred_real, d_pred_fake = train_discriminator(d_optimizer,\n",
    "                                                                real_data, fake_data)\n",
    "        LossD+=d_error.item()\n",
    "        # 2. Train Generator\n",
    "        # Generate fake data\n",
    "        fake_data = generator(noise(real_batch.size(0)))\n",
    "        # Train G return loss\n",
    "        g_error = train_generator(g_optimizer, fake_data)\n",
    "        # Log error\n",
    "        #logger.log(d_error, g_error, epoch, n_batch, num_batches)\n",
    "        LossG+=g_error.item()\n",
    "    \n",
    "    D_loss.append(LossD/N)\n",
    "    G_loss.append(LossG/N)\n",
    "    print('D:',LossD/N,'G:',LossG/N)\n",
    "    #print('Avg D_loss',d_error.data.cpu().numpy(),'Avg G_loss', d_error.data.cpu().numpy())\n",
    "print(D_loss,G_loss)  "
   ]
  },
  {
   "cell_type": "code",
   "execution_count": 136,
   "metadata": {},
   "outputs": [
    {
     "name": "stdout",
     "output_type": "stream",
     "text": [
      "Succ\n"
     ]
    }
   ],
   "source": [
    "#torch.save(net, PATH)\n",
    "#torch.save(net.state_dict(),PATH)\n",
    "#generator.state_dict()\n",
    "PATH=\"/Users/dl/generator\"\n",
    "torch.save(generator.state_dict(),PATH)\n",
    "print(\"Succ\")"
   ]
  },
  {
   "cell_type": "code",
   "execution_count": 103,
   "metadata": {},
   "outputs": [
    {
     "name": "stdout",
     "output_type": "stream",
     "text": [
      "[0.0017161526673512223, 0.0016557872719257527, 0.002033423044051354, 0.0019526974676797788, 0.0027749787718057634, 0.002929991764823596, 0.0032544410437345505, 0.003678392308826248, 0.0043857436388731, 0.004791414189090331, 0.0051558507025241855, 0.0060370911881327625, 0.006669404415786266, 0.007272379728655021, 0.0077420259440938635, 0.008145463906725247, 0.008504196747144064, 0.009206775816281636, 0.00940272304614385, 0.009504660018285116, 0.009798491588234901, 0.00989856759905815, 0.009848164131244024, 0.010096708736817043, 0.010438492751121521, 0.0105930040816466, 0.010605783371130625, 0.010798641061782837, 0.010909470971425375, 0.011013948408762613, 0.011128614072004954, 0.011142370829979579, 0.011225054411093394, 0.011315617748101553, 0.01141675856411457, 0.011533525231480598, 0.011647299576799075, 0.011608545052011808, 0.011649772105614345, 0.01185405596892039, 0.011946728533506394, 0.011898115156094234, 0.011796080721418063, 0.011898595273494721, 0.012055263066291809, 0.01221378178993861, 0.012243814080953598, 0.012149868614474932, 0.012200876476367315, 0.012172164225578309] [0.05734659224698941, 0.06350394744873047, 0.04876760913133621, 0.04599425167242686, 0.037481775625546776, 0.03562990867694219, 0.03364826995531718, 0.03167884795268377, 0.029403559482097625, 0.0279348049501578, 0.026226664358377456, 0.023209656327962874, 0.02126194803118706, 0.01945814114809036, 0.018266264522075654, 0.017233244317770003, 0.016787679487466813, 0.015209763332207998, 0.014805974757671356, 0.014553394132852554, 0.013893992866079013, 0.013823783359924952, 0.014247596955299377, 0.013209097554286321, 0.012709093889594078, 0.012402824465433757, 0.012382834410667419, 0.011854430679480235, 0.011736311766505242, 0.011514645737409592, 0.011286060764392217, 0.01133610754708449, 0.011027662879228592, 0.01099158373773098, 0.010832862889766693, 0.010489457760254542, 0.010444871350129446, 0.010436322145660717, 0.010244799681504567, 0.009976514956355095, 0.00974157451291879, 0.009982130135099094, 0.00998149909377098, 0.009858030038078626, 0.00962556502521038, 0.009329659754037857, 0.009407514627774557, 0.009596682580312092, 0.009382126328349113, 0.009355505365133285]\n"
     ]
    }
   ],
   "source": [
    "print(D_loss,G_loss)"
   ]
  },
  {
   "cell_type": "code",
   "execution_count": 110,
   "metadata": {},
   "outputs": [
    {
     "data": {
      "text/plain": [
       "Text(0, 0.5, 'Training Loss')"
      ]
     },
     "execution_count": 110,
     "metadata": {},
     "output_type": "execute_result"
    },
    {
     "data": {
      "image/png": "[encoded data removed]",
      "text/plain": [
       "<Figure size 432x288 with 1 Axes>"
      ]
     },
     "metadata": {
      "needs_background": "light"
     },
     "output_type": "display_data"
    }
   ],
   "source": [
    "import matplotlib.pyplot as plt\n",
    "\n",
    "plt.plot(D_loss,'b')\n",
    "plt.plot(G_loss,'r')\n",
    "plt.legend(['D loss','G loss'])\n",
    "plt.xlabel('Epochs')\n",
    "plt.ylabel('Training Loss')"
   ]
  },
  {
   "cell_type": "code",
   "execution_count": null,
   "metadata": {},
   "outputs": [],
   "source": [
    "logger = Logger(model_name='VGAN', data_name='MNIST')\n",
    "num_epochs=50\n",
    "for epoch in range(num_epochs):\n",
    "    for n_batch, (real_batch,_) in enumerate(data_loader):\n",
    "\n",
    "        # 1. Train Discriminator\n",
    "        real_data = Variable(images_to_vectors(real_batch))\n",
    "        if torch.cuda.is_available(): real_data = real_data.cuda()\n",
    "        # Generate fake data\n",
    "        fake_data = generator(noise(real_data.size(0))).detach()\n",
    "        # Train D\n",
    "        d_error, d_pred_real, d_pred_fake = train_discriminator(d_optimizer,\n",
    "                                                                real_data, fake_data)\n",
    "\n",
    "        # 2. Train Generator\n",
    "        # Generate fake data\n",
    "        fake_data = generator(noise(real_batch.size(0)))\n",
    "        # Train G\n",
    "        g_error = train_generator(g_optimizer, fake_data)\n",
    "        # Log error\n",
    "        logger.log(d_error, g_error, epoch, n_batch, num_batches)\n",
    "\n",
    "        # Display Progress\n",
    "        if (n_batch) % 100 == 0:\n",
    "            display.clear_output(True)\n",
    "            # Display Images\n",
    "            test_images = vectors_to_images(generator(test_noise)).data.cpu()\n",
    "            logger.log_images(test_images, num_test_samples, epoch, n_batch, num_batches);\n",
    "            # Display status Logs\n",
    "            logger.display_status(\n",
    "                epoch, num_epochs, n_batch, num_batches,\n",
    "                d_error, g_error, d_pred_real, d_pred_fake\n",
    "            )\n",
    "        # Model Checkpoints\n",
    "        logger.save_models(generator, discriminator, epoch)"
   ]
  },
  {
   "cell_type": "code",
   "execution_count": null,
   "metadata": {},
   "outputs": [],
   "source": [
    "        \n",
    "        # Display Progress\n",
    "        if (n_batch) % 100 == 0:\n",
    "            display.clear_output(True)\n",
    "            # Display Images\n",
    "            test_images = vectors_to_images(generator(test_noise)).data.cpu()\n",
    "            logger.log_images(test_images, num_test_samples, epoch, n_batch, num_batches);\n",
    "            # Display status Logs\n",
    "            logger.display_status(\n",
    "                epoch, num_epochs, n_batch, num_batches,\n",
    "                d_error, g_error, d_pred_real, d_pred_fake\n",
    "            )\n",
    "        # Model Checkpoints\n",
    "        logger.save_models(generator, discriminator, epoch)"
   ]
  },
  {
   "cell_type": "code",
   "execution_count": null,
   "metadata": {},
   "outputs": [],
   "source": []
  }
 ],
 "metadata": {
  "kernelspec": {
   "display_name": "Python 3",
   "language": "python",
   "name": "python3"
  },
  "language_info": {
   "codemirror_mode": {
    "name": "ipython",
    "version": 3
   },
   "file_extension": ".py",
   "mimetype": "text/x-python",
   "name": "python",
   "nbconvert_exporter": "python",
   "pygments_lexer": "ipython3",
   "version": "3.7.7"
  }
 },
 "nbformat": 4,
 "nbformat_minor": 4
}
