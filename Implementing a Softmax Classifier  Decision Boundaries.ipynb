{
 "cells": [
  {
   "cell_type": "code",
   "execution_count": 276,
   "metadata": {},
   "outputs": [],
   "source": [
    "import numpy as np\n",
    "import matplotlib.pyplot as plt\n",
    "import random\n",
    "\n",
    "def loaddata(file):\n",
    "    with open(file, 'r') as fo:      \n",
    "        data = np.loadtxt(fo, dtype=np.float32)\n",
    "    return data\n",
    "\n",
    "\n",
    "def onehot_encode(Label):\n",
    "    Lab=np.unique(Label)\n",
    "    L=np.zeros((len(Label),len(Lab)))\n",
    "    for i in range(len(Label)):  \n",
    "        for j in range(len(Lab)):\n",
    "            if Label[i]==Lab[j]:\n",
    "                L[i,j]=1\n",
    "    return L\n",
    "\n",
    "def normdata (data):         # normalize data to (-1,1)\n",
    "    m=np.mean(data,axis=0)   \n",
    "    k=np.max(data,axis=0)-np.min(data,axis=0)\n",
    "    Ndata=(data-m)/k \n",
    "    return Ndata\n",
    "\n",
    "\n",
    "def softmax(x):\n",
    "    exp_x=np.exp(x-np.max(x))\n",
    "    partition=np.sum(exp_x,axis=1,keepdims=True)\n",
    "    return exp_x/partition\n",
    "\n",
    "# compute loss and gradW         \n",
    "def softloss (Y,X,W,grad_):\n",
    "    linear=np.dot(X,W)         \n",
    "    P=softmax(linear)\n",
    "    Reg=0.5*alpha*(np.linalg.norm(W)**2)   # L2 norm\n",
    "    SoftLoss=-np.sum(Y*np.log(P))+Reg    \n",
    "    grad=mtum*grad_[-1]+np.dot(X.T,(P-Y))+alpha*W   #    \n",
    "    return SoftLoss,grad\n",
    "   \n",
    "\n",
    "def Acc_compute(X,Y,W):  \n",
    "    \n",
    "    Y_pred=softmax(np.dot(X,W))      #N*3\n",
    "    N=Y_pred.shape[0]   \n",
    "    count= np.sum(np.argmax(Y_pred, axis=1)==np.argmax(Y, axis=1))  # as row  axis=1\n",
    "    acc=count/N\n",
    "    return acc  \n",
    "\n",
    "def data_processing(data):\n",
    "    #normalize data and add bias, #data formate first col is label    \n",
    "    NormD=normdata (data[:,1:data.shape[1]])   \n",
    "    bias1=np.ones((data.shape[0],1)) \n",
    "    B_data=np.c_[bias1,NormD]\n",
    "    Label=onehot_encode(data[:,0]) \n",
    "    return B_data, Label\n",
    "\n",
    "\n"
   ]
  },
  {
   "cell_type": "code",
   "execution_count": 415,
   "metadata": {},
   "outputs": [
    {
     "name": "stdout",
     "output_type": "stream",
     "text": [
      "[[-0.53124054 -0.11089277 -0.51059776]\n",
      " [-2.47898295  0.5776865   1.91917352]\n",
      " [-6.32952508  0.87585489  4.89640545]]\n",
      "61.88316791804082 24.17661739749588\n",
      "0.8444444444444444 0.7254901960784313\n"
     ]
    }
   ],
   "source": [
    "# load data \n",
    "traindata = loaddata('/Users/dl/Documents/RIT related/Iris/iris-train.txt')\n",
    "testdata=loaddata('/Users/dl/Documents/RIT related/Iris/iris-test.txt')\n",
    "\n",
    "# Tune Parameters \n",
    "Epochs=1000\n",
    "N=traindata.shape[0] # 90\n",
    "Mini=20\n",
    "BSize=N//Mini   #9\n",
    "alpha= 0.01   # weight decay\n",
    "rate=5e-3  # rate\n",
    "mtum=0.01  #momentum rate\n",
    "grad_=[0]\n",
    "W=np.random.uniform(low=-1, high=1, size=9).reshape(3,3)  # initialize W (X_col dim, Y_col dim)\n",
    "\n",
    " \n",
    "# statistic variable\n",
    "Sta_trAcc=[]\n",
    "Sta_tsAcc=[]\n",
    "loss1=[]\n",
    "loss2=[]\n",
    "\n",
    "# train model \n",
    "for m in range(Epochs):\n",
    "    \n",
    "    np.random.shuffle(traindata)  #shuffle \n",
    "    \n",
    "    #normalize data and add bias\n",
    "    NormTr,TrainL=data_processing(traindata)\n",
    "    NormTs,TestL=data_processing(testdata)       \n",
    "    \n",
    "    # update W in train minibatch\n",
    "    for i in range(BSize):\n",
    "        X=NormTr[Mini*i:Mini*(i+1),:]\n",
    "        Y=TrainL[Mini*i:Mini*(i+1),:]\n",
    "        Loss,grad=softloss(Y,X,W,grad_)\n",
    "        W=W-rate*grad                   \n",
    "        grad_=np.append(grad_,grad)        \n",
    "      \n",
    "    #Loss and Accuracy compute of train sets\n",
    "    TAcc=Acc_compute(NormTr,TrainL,W)      \n",
    "    TLoss,grad1=softloss(TrainL,NormTr,W,grad_)\n",
    "    loss1=np.append(loss1,TLoss)\n",
    "    #print(TLoss)\n",
    "   \n",
    "    #Loss and Accuracy compute of test sets\n",
    "    SAcc=Acc_compute(NormTs,TestL,W)    \n",
    "    SLoss,grad2=softloss(TestL,NormTs,W,grad_)    \n",
    "    loss2=np.append(loss2,SLoss)\n",
    "    \n",
    "    #statistic Acc during epoches \n",
    "    Sta_trAcc=np.append(Sta_trAcc,TAcc)\n",
    "    Sta_tsAcc=np.append(Sta_tsAcc,SAcc)\n",
    "    \n",
    "    #early stopping \n",
    "    if m>2 and loss1[-2] - loss1[-1]<1e-3:  #0.01\n",
    "        rate=rate*0.8\n",
    "        if rate< 1e-11:\n",
    "            break\n",
    "    #print(m,'Epoches--','Loss:',TLoss/N,'Accuracy',TAcc)\n",
    "\n",
    "\n",
    "print(W)\n",
    "print(TLoss,SLoss)\n",
    "print(TAcc,SAcc)"
   ]
  },
  {
   "cell_type": "code",
   "execution_count": 416,
   "metadata": {},
   "outputs": [
    {
     "data": {
      "image/png": "[encoded data removed]",
      "text/plain": [
       "<Figure size 432x288 with 2 Axes>"
      ]
     },
     "metadata": {
      "needs_background": "light"
     },
     "output_type": "display_data"
    }
   ],
   "source": [
    "\n",
    "#plot loss and Accuracy \n",
    "def plot_loss_accuracy (loss1,loss2,Sta_trAcc,Sta_tsAcc):\n",
    "    plt.subplot(1,2,1)\n",
    "    A=np.arange(0,loss1.shape[0],1)\n",
    "    plt.plot(A,loss1,'-r')\n",
    "    plt.plot(A,loss2,'-b')\n",
    "    plt.legend(('train', 'test'), loc='upper left') \n",
    "    plt.title('Cross-Entropy Loss')\n",
    "    plt.xlabel('Epochs')\n",
    "    plt.ylabel('Loss Value')\n",
    "\n",
    "    plt.subplot(1,2,2)\n",
    "    plt.plot(A,Sta_trAcc,'-r')\n",
    "    plt.plot(A,Sta_tsAcc,'-b')\n",
    "    plt.title('Mean Per-class Accuracy')\n",
    "    plt.xlabel('Epochs')\n",
    "    #plt.ylabel('Accuracy')\n",
    "    plt.legend(('train', 'test'), loc='upper left') \n",
    "    plt.show()\n",
    "plot_loss_accuracy(loss1,loss2,Sta_trAcc,Sta_tsAcc)"
   ]
  },
  {
   "cell_type": "code",
   "execution_count": 376,
   "metadata": {},
   "outputs": [
    {
     "data": {
      "image/png": "[encoded data removed]",
      "text/plain": [
       "<Figure size 432x288 with 1 Axes>"
      ]
     },
     "metadata": {
      "needs_background": "light"
     },
     "output_type": "display_data"
    }
   ],
   "source": [
    "#Part2\n",
    "#plot decision boundary \n",
    "def descision_boundary(traindata):\n",
    "    y=traindata[:,0]\n",
    "    X=normdata (traindata[:,1:traindata.shape[1]])   #N*2\n",
    "    X1=X[:,0]\n",
    "    X2=X[:,1]\n",
    "    x_min, x_max = X1.min() - 1, X1.max() + 1\n",
    "    y_min, y_max = X2.min() - 1, X2.max() + 1\n",
    "    h = 0.01\n",
    "    xx, yy = np.meshgrid(np.arange(x_min, x_max, h), np.arange(y_min, y_max, h)) \n",
    "    #get Z based model \n",
    "    b=np.ones(xx.ravel().shape[0])\n",
    "    data=np.array([xx.ravel(), yy.ravel()]).T\n",
    "    data=np.c_[b,data]\n",
    "    Z=np.argmax(softmax(np.dot(data,W)), axis=1)\n",
    "    Z = Z.reshape(xx.shape)\n",
    "    \n",
    "    #plot boundary and scatter \n",
    "    fig,ax = plt.subplots()\n",
    "    boundary=ax.contourf(xx, yy, Z,)\n",
    "    scatter = ax.scatter(X1, X2, c=np.squeeze(y), cmap=plt.cm.RdYlBu)\n",
    "    # produce a legend with the unique colors from the scatter\n",
    "    legend1 = ax.legend(*scatter.legend_elements(),loc=\"lower left\", title=\"Classes\")\n",
    "    ax.add_artist(legend1)\n",
    "    plt.show() \n",
    "\n",
    "#plot decision boundary\n",
    "descision_boundary(traindata)    "
   ]
  },
  {
   "cell_type": "code",
   "execution_count": 377,
   "metadata": {},
   "outputs": [
    {
     "data": {
      "image/png": "[encoded data removed]",
      "text/plain": [
       "<Figure size 432x288 with 1 Axes>"
      ]
     },
     "metadata": {
      "needs_background": "light"
     },
     "output_type": "display_data"
    }
   ],
   "source": [
    "#Part2\n",
    "#plot decision boundary \n",
    "def descision_boundary(traindata):\n",
    "    y=traindata[:,0]\n",
    "    X=normdata (traindata[:,1:traindata.shape[1]])   #N*2\n",
    "    X1=X[:,0]\n",
    "    X2=X[:,1]\n",
    "    x_min, x_max = X1.min() - 1, X1.max() + 1\n",
    "    y_min, y_max = X2.min() - 1, X2.max() + 1\n",
    "    h = 0.01\n",
    "    xx, yy = np.meshgrid(np.arange(x_min, x_max, h), np.arange(y_min, y_max, h)) \n",
    "    #get Z based model \n",
    "    b=np.ones(xx.ravel().shape[0])\n",
    "    data=np.array([xx.ravel(), yy.ravel()]).T\n",
    "    data=np.c_[b,data]\n",
    "    Z=np.argmax(softmax(np.dot(data,W)), axis=1)\n",
    "    Z = Z.reshape(xx.shape)\n",
    "    \n",
    "    #plot boundary and scatter \n",
    "    fig,ax = plt.subplots()\n",
    "    boundary=ax.contourf(xx, yy, Z,)\n",
    "    scatter = ax.scatter(X1, X2, c=np.squeeze(y), cmap=plt.cm.RdYlBu)\n",
    "    # produce a legend with the unique colors from the scatter\n",
    "    legend1 = ax.legend(*scatter.legend_elements(),loc=\"lower left\", title=\"Classes\")\n",
    "    ax.add_artist(legend1)\n",
    "    plt.show() \n",
    "\n",
    "descision_boundary(traindata)"
   ]
  },
  {
   "cell_type": "code",
   "execution_count": 178,
   "metadata": {},
   "outputs": [
    {
     "data": {
      "text/plain": [
       "array([[-0.74452157, -0.52843342, -0.70297246],\n",
       "       [-0.74676805,  0.3015175 ,  0.43735828],\n",
       "       [-4.1380104 ,  0.58404704,  3.043103  ]])"
      ]
     },
     "execution_count": 178,
     "metadata": {},
     "output_type": "execute_result"
    }
   ],
   "source": [
    "W"
   ]
  },
  {
   "cell_type": "code",
   "execution_count": 244,
   "metadata": {},
   "outputs": [
    {
     "ename": "SyntaxError",
     "evalue": "invalid syntax (<ipython-input-244-04d81cb32a4b>, line 3)",
     "output_type": "error",
     "traceback": [
      "\u001b[0;36m  File \u001b[0;32m\"<ipython-input-244-04d81cb32a4b>\"\u001b[0;36m, line \u001b[0;32m3\u001b[0m\n\u001b[0;31m    def descision_boundary(traindata)\u001b[0m\n\u001b[0m                                     ^\u001b[0m\n\u001b[0;31mSyntaxError\u001b[0m\u001b[0;31m:\u001b[0m invalid syntax\n"
     ]
    }
   ],
   "source": [
    "#Part2\n",
    "#plot decision boundary \n",
    "def descision_boundary(traindata)\n",
    "    y=traindata[:,0]\n",
    "    X=normdata (traindata[:,1:traindata.shape[1]])   #N*2\n",
    "    X1=X[:,0]\n",
    "    X2=X[:,1]\n",
    "\n",
    "    x_min, x_max = X1.min() - 1, X1.max() + 1\n",
    "    y_min, y_max = X2.min() - 1, X2.max() + 1\n",
    "    h = 0.01\n",
    "    xx, yy = np.meshgrid(np.arange(x_min, x_max, h), np.arange(y_min, y_max, h)) \n",
    "\n",
    "    #get Z based model \n",
    "    b=np.ones(xx.ravel().shape[0])\n",
    "    data=np.array([xx.ravel(), yy.ravel()]).T\n",
    "    data=np.c_[b,data]\n",
    "    Z=np.argmax(softmax(np.dot(data,W)), axis=1)\n",
    "    Z = Z.reshape(xx.shape)\n",
    "\n",
    "    fig,ax = plt.subplots()\n",
    "    boundary=ax.contourf(xx, yy, Z,)\n",
    "\n",
    "    scatter = ax.scatter(X1, X2, c=np.squeeze(y), cmap=plt.cm.RdYlBu)\n",
    "    # produce a legend with the unique colors from the scatter\n",
    "    legend1 = ax.legend(*scatter.legend_elements(),\n",
    "                        loc=\"lower left\", title=\"Classes\")\n",
    "    ax.add_artist(legend1)\n",
    "\n",
    "    plt.show() "
   ]
  },
  {
   "cell_type": "code",
   "execution_count": null,
   "metadata": {},
   "outputs": [],
   "source": []
  },
  {
   "cell_type": "code",
   "execution_count": null,
   "metadata": {},
   "outputs": [],
   "source": []
  },
  {
   "cell_type": "code",
   "execution_count": null,
   "metadata": {},
   "outputs": [],
   "source": []
  }
 ],
 "metadata": {
  "kernelspec": {
   "display_name": "Python 3",
   "language": "python",
   "name": "python3"
  },
  "language_info": {
   "codemirror_mode": {
    "name": "ipython",
    "version": 3
   },
   "file_extension": ".py",
   "mimetype": "text/x-python",
   "name": "python",
   "nbconvert_exporter": "python",
   "pygments_lexer": "ipython3",
   "version": "3.8.5"
  }
 },
 "nbformat": 4,
 "nbformat_minor": 4
}
