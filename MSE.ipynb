{
 "cells": [
  {
   "cell_type": "code",
   "execution_count": 1,
   "metadata": {},
   "outputs": [],
   "source": [
    "from IPython import display\n",
    "from utils import Logger\n",
    "import torch\n",
    "from torch import nn, optim\n",
    "from torch.autograd.variable import Variable\n",
    "from torchvision import transforms, datasets\n",
    "import matplotlib.pyplot as plt\n",
    "\n",
    "def Fashion_mnist_data():\n",
    "    compose = transforms.Compose(\n",
    "        [transforms.ToTensor(),\n",
    "         transforms.Normalize([0.5], [0.5])]\n",
    "         #transforms.Normalize((.5, .5, .5), (.5, .5, .5))\n",
    "        )\n",
    "    out_dir = './dataset'\n",
    "    return datasets.FashionMNIST(root=out_dir, train=True, transform=compose, download=True)\n",
    "\n",
    "\n",
    "\n",
    "# Load data\n",
    "data = Fashion_mnist_data()\n",
    "# Create loader with data, so that we can iterate over it\n",
    "data_loader = torch.utils.data.DataLoader(data, batch_size=100, shuffle=True)\n",
    "# Num batches\n",
    "num_batches = len(data_loader)  #600*100\n",
    "num_batches"
   ]
  },
  {
   "cell_type": "code",
   "execution_count": null,
   "metadata": {},
   "outputs": [],
   "source": [
    "class DiscriminatorNet(torch.nn.Module):\n",
    "    \"\"\"\n",
    "    A three hidden-layer discriminative neural network\n",
    "    \"\"\"\n",
    "    def __init__(self):\n",
    "        super(DiscriminatorNet, self).__init__()\n",
    "        n_features = 784\n",
    "        n_out = 1\n",
    "        \n",
    "        self.hidden0 = nn.Sequential( \n",
    "            nn.Linear(n_features, 1024),\n",
    "            nn.ReLU(),\n",
    "            nn.Dropout(0.3)\n",
    "        )\n",
    "        self.hidden1 = nn.Sequential(\n",
    "            nn.Linear(1024, 512),\n",
    "            #nn.LeakyReLU(0.2),\n",
    "            nn.ReLU(),\n",
    "            nn.Dropout(0.3)\n",
    "        )\n",
    "        self.hidden2 = nn.Sequential(\n",
    "            nn.Linear(512, 256),\n",
    "            #nn.LeakyReLU(0.2),\n",
    "            nn.ReLU(),\n",
    "            nn.Dropout(0.3)\n",
    "        )\n",
    "        self.out = nn.Sequential(\n",
    "            torch.nn.Linear(256, n_out),\n",
    "            torch.nn.Sigmoid()\n",
    "        )\n",
    "        \n",
    "    def forward(self, x):\n",
    "        x = self.hidden0(x)\n",
    "        x = self.hidden1(x)\n",
    "        x = self.hidden2(x)\n",
    "        x = self.out(x)\n",
    "        return x\n",
    "\n",
    "\n",
    "discriminator = DiscriminatorNet()\n",
    "\n",
    "\n",
    "\n",
    "\n",
    "class GeneratorNet(torch.nn.Module):\n",
    "    \"\"\"\n",
    "    A three hidden-layer generative neural network\n",
    "    \"\"\"\n",
    "    def __init__(self):\n",
    "        super(GeneratorNet, self).__init__()\n",
    "        n_features = 100\n",
    "        n_out = 784\n",
    "        \n",
    "        self.hidden0 = nn.Sequential(\n",
    "            nn.Linear(n_features, 256),\n",
    "            #nn.LeakyReLU(0.2)\n",
    "            nn.ReLU()\n",
    "        )\n",
    "        self.hidden1 = nn.Sequential(            \n",
    "            nn.Linear(256, 512),\n",
    "            #nn.LeakyReLU(0.2)\n",
    "            nn.ReLU()\n",
    "        )\n",
    "        self.hidden2 = nn.Sequential(\n",
    "            nn.Linear(512, 1024),\n",
    "            #nn.LeakyReLU(0.2)\n",
    "            nn.ReLU()\n",
    "        )\n",
    "        \n",
    "        self.out = nn.Sequential(\n",
    "            nn.Linear(1024, n_out),\n",
    "            nn.Tanh()\n",
    "        )\n",
    "\n",
    "    def forward(self, x):\n",
    "        x = self.hidden0(x)\n",
    "        x = self.hidden1(x)\n",
    "        x = self.hidden2(x)\n",
    "        x = self.out(x)\n",
    "        return x\n",
    "    \n",
    "generator = GeneratorNet()"
   ]
  },
  {
   "cell_type": "code",
   "execution_count": 6,
   "metadata": {},
   "outputs": [],
   "source": [
    "def noise(size):\n",
    "    '''\n",
    "    Generates a 1-d vector of gaussian sampled random values\n",
    "    '''\n",
    "    n = Variable(torch.randn(size, 100))\n",
    "    return n\n",
    "\n",
    "def images_to_vectors(images):\n",
    "    return images.view(images.size(0), 784)\n",
    "\n",
    "def vectors_to_images(vectors):\n",
    "    return vectors.view(vectors.size(0), 1, 28, 28)"
   ]
  },
  {
   "cell_type": "code",
   "execution_count": 7,
   "metadata": {},
   "outputs": [],
   "source": [
    "discriminator = DiscriminatorNet()\n",
    "generator = GeneratorNet()\n",
    "if torch.cuda.is_available():\n",
    "    discriminator.cuda()\n",
    "    generator.cuda()"
   ]
  },
  {
   "cell_type": "code",
   "execution_count": 8,
   "metadata": {},
   "outputs": [],
   "source": [
    "def ones_target(size):\n",
    "    '''\n",
    "    Tensor containing ones, with shape = size\n",
    "    '''\n",
    "    data = Variable(torch.ones(size, 1))\n",
    "    return data\n",
    "\n",
    "def zeros_target(size):\n",
    "    '''\n",
    "    Tensor containing zeros, with shape = size\n",
    "    '''\n",
    "    data = Variable(torch.zeros(size, 1))\n",
    "    return data"
   ]
  },
  {
   "cell_type": "code",
   "execution_count": 11,
   "metadata": {},
   "outputs": [],
   "source": [
    "#d_optimizer = optim.Adam(discriminator.parameters(), lr=0.0002)\n",
    "g_optimizer = optim.Adam(generator.parameters(), lr=0.0002)\n",
    "#loss = nn.BCELoss()\n",
    "loss=nn.MSELoss()\n",
    "#optimizer = optim.Adam(generator.parameters(), lr=0.01)"
   ]
  },
  {
   "cell_type": "code",
   "execution_count": 12,
   "metadata": {},
   "outputs": [],
   "source": [
    "def train_generator(optimizer, fake_data,real_data):\n",
    "    N = fake_data.size(0)\n",
    "    optimizer.zero_grad()    \n",
    "    error = loss(fake_data, real_data)\n",
    "    error.backward()    \n",
    "    optimizer.step()\n",
    "   \n",
    "    return error"
   ]
  },
  {
   "cell_type": "code",
   "execution_count": 13,
   "metadata": {},
   "outputs": [],
   "source": [
    "num_test_samples = 8\n",
    "test_noise = noise(num_test_samples)"
   ]
  },
  {
   "cell_type": "code",
   "execution_count": 15,
   "metadata": {},
   "outputs": [
    {
     "name": "stdout",
     "output_type": "stream",
     "text": [
      "epoch: 0 G: 0.3555856298903624\n",
      "epoch: 1 G: 0.3494771255552769\n",
      "epoch: 2 G: 0.34916625703374543\n",
      "epoch: 3 G: 0.34890608966350556\n",
      "epoch: 4 G: 0.3487670202056567\n",
      "epoch: 5 G: 0.348598361859719\n",
      "epoch: 6 G: 0.34854034389058747\n",
      "epoch: 7 G: 0.34841691121459006\n",
      "epoch: 8 G: 0.348355991144975\n",
      "epoch: 9 G: 0.34835621108611425\n",
      "[0.3555856298903624, 0.3494771255552769, 0.34916625703374543, 0.34890608966350556, 0.3487670202056567, 0.348598361859719, 0.34854034389058747, 0.34841691121459006, 0.348355991144975, 0.34835621108611425]\n"
     ]
    }
   ],
   "source": [
    "G_loss=[]\n",
    "N=600\n",
    "num_epochs=10\n",
    "for epoch in range(num_epochs):\n",
    "  \n",
    "    LossG=0\n",
    "    for n_batch, (real_batch,_) in enumerate(data_loader):\n",
    "\n",
    "        \n",
    "        # Train Generator\n",
    "        fake_data = generator(noise(real_batch.size(0)))\n",
    "        real_data = images_to_vectors(real_batch)\n",
    "        g_error = train_generator(g_optimizer, fake_data,real_data)       \n",
    "        \n",
    "       \n",
    "        LossG+=g_error.item()\n",
    "    G_loss.append(LossG/N)\n",
    "    print('epoch:',epoch,'G:',LossG/N)\n",
    "print(G_loss) "
   ]
  },
  {
   "cell_type": "code",
   "execution_count": 22,
   "metadata": {},
   "outputs": [
    {
     "data": {
      "text/plain": [
       "Text(0, 0.5, 'Training Loss')"
      ]
     },
     "execution_count": 22,
     "metadata": {},
     "output_type": "execute_result"
    },
    {
     "data": {
      "image/png": "[encoded data removed]",
      "text/plain": [
       "<Figure size 432x288 with 1 Axes>"
      ]
     },
     "metadata": {
      "needs_background": "light"
     },
     "output_type": "display_data"
    }
   ],
   "source": [
    "plt.plot(G_loss,'r')\n",
    "plt.legend(['G loss'])\n",
    "plt.title('Generator MSE Loss')\n",
    "plt.ylim((0.348, 0.356))\n",
    "plt.xlabel('Epochs')\n",
    "plt.ylabel('Training Loss')"
   ]
  },
  {
   "cell_type": "code",
   "execution_count": 23,
   "metadata": {},
   "outputs": [
    {
     "data": {
      "image/png": "[encoded data removed]",
      "text/plain": [
       "<Figure size 1152x1152 with 1 Axes>"
      ]
     },
     "metadata": {},
     "output_type": "display_data"
    },
    {
     "name": "stdout",
     "output_type": "stream",
     "text": [
      "Epoch: [14/15], Batch Num: [500/600]\n",
      " Generator Loss: 0.3172\n",
      "G: 0.0034819544782241185\n",
      "[0.003482690143585205, 0.003482779575387637, 0.0034825503453612327, 0.003482229820887248, 0.0034822739630937577, 0.003481908044219017, 0.003482306050757567, 0.003482038728892803, 0.00348219759563605, 0.003481986017028491, 0.003481973795592785, 0.003482162552078565, 0.003481829186777274, 0.0034818283220132192, 0.0034819544782241185]\n"
     ]
    }
   ],
   "source": [
    "logger = Logger(model_name='VGAN', data_name='MNIST')\n",
    "\n",
    "G_loss=[]\n",
    "N=60000\n",
    "num_epochs=15\n",
    "for epoch in range(num_epochs):\n",
    "  \n",
    "    LossG=0\n",
    "    for n_batch, (real_batch,_) in enumerate(data_loader):        \n",
    "        # Train Generator\n",
    "        fake_data = generator(noise(real_batch.size(0)))\n",
    "        real_data = images_to_vectors(real_batch)\n",
    "        # Train G\n",
    "        g_error = train_generator(g_optimizer, fake_data,real_data)       \n",
    "        logger.log(0, g_error, epoch, n_batch, num_batches)      \n",
    "        LossG+=g_error.item()\n",
    "\n",
    "        # Display Progress\n",
    "        if (n_batch) % 100 == 0:\n",
    "            display.clear_output(True)\n",
    "            \n",
    "            # Display Images\n",
    "            test_images = vectors_to_images(generator(test_noise)).data.cpu()\n",
    "            logger.log_images(test_images, num_test_samples, epoch, n_batch, num_batches);\n",
    "            \n",
    "            print('Epoch: [{}/{}], Batch Num: [{}/{}]'.format(\n",
    "            epoch,num_epochs, n_batch, num_batches)\n",
    "             )\n",
    "            print(' Generator Loss: {:.4f}'.format(g_error))\n",
    "            \n",
    "        \n",
    "   \n",
    "    G_loss.append(LossG/N)\n",
    "    print('G:',LossG/N)\n",
    "print(G_loss)  "
   ]
  },
  {
   "cell_type": "code",
   "execution_count": null,
   "metadata": {},
   "outputs": [],
   "source": []
  },
  {
   "cell_type": "code",
   "execution_count": null,
   "metadata": {},
   "outputs": [],
   "source": []
  },
  {
   "cell_type": "code",
   "execution_count": null,
   "metadata": {},
   "outputs": [],
   "source": [
    "### WGAN"
   ]
  },
  {
   "cell_type": "code",
   "execution_count": null,
   "metadata": {},
   "outputs": [],
   "source": []
  }
 ],
 "metadata": {
  "kernelspec": {
   "display_name": "Python 3",
   "language": "python",
   "name": "python3"
  },
  "language_info": {
   "codemirror_mode": {
    "name": "ipython",
    "version": 3
   },
   "file_extension": ".py",
   "mimetype": "text/x-python",
   "name": "python",
   "nbconvert_exporter": "python",
   "pygments_lexer": "ipython3",
   "version": "3.7.7"
  }
 },
 "nbformat": 4,
 "nbformat_minor": 4
}
